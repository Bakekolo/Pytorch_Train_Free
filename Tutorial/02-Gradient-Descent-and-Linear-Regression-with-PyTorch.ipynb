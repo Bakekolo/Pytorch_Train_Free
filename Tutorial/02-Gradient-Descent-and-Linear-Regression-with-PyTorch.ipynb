{
 "cells": [
  {
   "cell_type": "markdown",
   "metadata": {},
   "source": [
    "## Introduction to Linear Regression"
   ]
  },
  {
   "cell_type": "markdown",
   "metadata": {},
   "source": [
    "In this we'll discuss one of the foundational algorithms in Machine Learning: *Linear regression*. We'll create a model that predicts crop yields for apples and oranges (*target variable*) by looking at the average temperature, rainfall, and humidity (*input variables or features*) in a region. Here's the training data:\n",
    "![](https://i.imgur.com/6Ujttb4.png)"
   ]
  },
  {
   "cell_type": "markdown",
   "metadata": {},
   "source": [
    "In a linear regression model, each target variable is estimated to be a weighted sum of the input variables, offset by some constant, known as a bias:\n",
    "\n",
    "    yield_apple  = w11 * temp + w12 * rainfall + w13 * humidity + b1\n",
    "\n",
    "    yield_orange = w21 * temp + w22 * rainfall + w23 * humidity + b2"
   ]
  },
  {
   "cell_type": "markdown",
   "metadata": {},
   "source": [
    "Visually, it means that the yield of apples is a linear or planar function of temperature, rainfall and humidity:\n",
    "![](https://i.imgur.com/4DJ9f8X.png)"
   ]
  },
  {
   "cell_type": "markdown",
   "metadata": {},
   "source": [
    "The *learning part* of linear regression is to figure out a set of weights `w11, w12,... w23, b1 & b2` using the training data, to make accurate predictions for new data. The learned weights will be used to predict the yields for apples and oranges in a new region using the average temperature, rainfall, and humidity for that region."
   ]
  },
  {
   "cell_type": "markdown",
   "metadata": {},
   "source": [
    "We'll *train* our model by adjusting the weights slightly many times to make better predictions, using an optimization technique called *gradient descent*. Let's begin by importing Numpy and PyTorch."
   ]
  },
  {
   "cell_type": "code",
   "execution_count": 1,
   "metadata": {},
   "outputs": [],
   "source": [
    "import numpy as np\n",
    "import torch"
   ]
  },
  {
   "cell_type": "markdown",
   "metadata": {},
   "source": [
    "## Training data"
   ]
  },
  {
   "cell_type": "markdown",
   "metadata": {},
   "source": [
    "We can represent the training data using two matrices: `inputs` and `targets`, each with one row per observation, and one column per variable."
   ]
  },
  {
   "cell_type": "code",
   "execution_count": 2,
   "metadata": {},
   "outputs": [],
   "source": [
    "# Input (temp, rainfall, humidity)\n",
    "inputs = np.array([[73, 67, 43], \n",
    "                   [91, 88, 64], \n",
    "                   [87, 134, 58], \n",
    "                   [102, 43, 37], \n",
    "                   [69, 96, 70]], dtype='float32')"
   ]
  },
  {
   "cell_type": "code",
   "execution_count": 3,
   "metadata": {},
   "outputs": [],
   "source": [
    "# Targets (apples, oranges)\n",
    "targets = np.array([[56, 70], \n",
    "                    [81, 101], \n",
    "                    [119, 133], \n",
    "                    [22, 37], \n",
    "                    [103, 119]], dtype='float32')"
   ]
  },
  {
   "cell_type": "markdown",
   "metadata": {},
   "source": [
    "We've separated the input and target variables because we'll operate on them separately. Also, we've created numpy arrays, because this is typically how you would work with training data: read some CSV files as numpy arrays, do some processing, and then convert them to PyTorch tensors."
   ]
  },
  {
   "cell_type": "markdown",
   "metadata": {},
   "source": [
    "Let's convert the arrays to PyTorch tensors."
   ]
  },
  {
   "cell_type": "code",
   "execution_count": 4,
   "metadata": {},
   "outputs": [
    {
     "name": "stdout",
     "output_type": "stream",
     "text": [
      "tensor([[ 73.,  67.,  43.],\n",
      "        [ 91.,  88.,  64.],\n",
      "        [ 87., 134.,  58.],\n",
      "        [102.,  43.,  37.],\n",
      "        [ 69.,  96.,  70.]])\n",
      "tensor([[ 56.,  70.],\n",
      "        [ 81., 101.],\n",
      "        [119., 133.],\n",
      "        [ 22.,  37.],\n",
      "        [103., 119.]])\n"
     ]
    }
   ],
   "source": [
    "# Convert inputs and targets to tensors\n",
    "inputs = torch.from_numpy(inputs)\n",
    "targets = torch.from_numpy(targets)\n",
    "print(inputs)\n",
    "print(targets)"
   ]
  },
  {
   "cell_type": "markdown",
   "metadata": {},
   "source": [
    "## Linear regression model from scratch"
   ]
  },
  {
   "cell_type": "markdown",
   "metadata": {},
   "source": [
    "The weights and biases (`w11, w12,... w23, b1 & b2`) can also be represented as matrices, initialized as random values. The first row of `w` and the first element of `b` are used to predict the first target variable, i.e., yield of apples, and similarly, the second for oranges."
   ]
  },
  {
   "cell_type": "code",
   "execution_count": 5,
   "metadata": {},
   "outputs": [
    {
     "data": {
      "text/plain": [
       "(tensor([[-0.6480, -0.2108,  0.3921],\n",
       "         [-0.0154, -0.0368, -0.9665]], requires_grad=True),\n",
       " tensor([-1.0559, -0.4317], requires_grad=True))"
      ]
     },
     "execution_count": 5,
     "metadata": {},
     "output_type": "execute_result"
    }
   ],
   "source": [
    "# Weights and biases\n",
    "w = torch.randn(2, 3, requires_grad = True)\n",
    "b = torch.randn(2, requires_grad = True)\n",
    "w, b"
   ]
  },
  {
   "cell_type": "markdown",
   "metadata": {},
   "source": [
    "`torch.randn` creates a tensor with the given shape, with elements picked randomly from a [normal distribution](https://jovian.ai/outlink?url=https%3A%2F%2Fen.wikipedia.org%2Fwiki%2FNormal_distribution) with mean 0 and standard deviation 1."
   ]
  },
  {
   "cell_type": "markdown",
   "metadata": {},
   "source": [
    "Our *model* is simply a function that performs a matrix multiplication of the `inputs` and the weights `w` (transposed) and adds the bias `b` (replicated for each observation).\n",
    "\n",
    "![](https://i.imgur.com/WGXLFvA.png)"
   ]
  },
  {
   "cell_type": "markdown",
   "metadata": {},
   "source": [
    "We can define the model as follows:"
   ]
  },
  {
   "cell_type": "code",
   "execution_count": 6,
   "metadata": {},
   "outputs": [],
   "source": [
    "def model(x):\n",
    "    return x @ w.T + b"
   ]
  },
  {
   "cell_type": "markdown",
   "metadata": {},
   "source": [
    "`@` represents matrix multiplication in PyTorch, and the `.t` or `.T` method returns the transpose of a tensor.\n",
    "\n",
    "The matrix obtained by passing the input data into the model is a set of predictions for the target variables."
   ]
  },
  {
   "cell_type": "code",
   "execution_count": 7,
   "metadata": {},
   "outputs": [
    {
     "data": {
      "text/plain": [
       "tensor([[-45.6211, -45.5826],\n",
       "        [-53.4771, -66.9298],\n",
       "        [-62.9370, -62.7608],\n",
       "        [-61.7043, -39.3481],\n",
       "        [-38.5561, -72.6839]], grad_fn=<AddBackward0>)"
      ]
     },
     "execution_count": 7,
     "metadata": {},
     "output_type": "execute_result"
    }
   ],
   "source": [
    "# Generate predictions\n",
    "preds = model(inputs)\n",
    "preds"
   ]
  },
  {
   "cell_type": "markdown",
   "metadata": {},
   "source": [
    "Let's compare the predictions of our model with the actual targets."
   ]
  },
  {
   "cell_type": "code",
   "execution_count": 8,
   "metadata": {},
   "outputs": [
    {
     "data": {
      "text/plain": [
       "tensor([[ 56.,  70.],\n",
       "        [ 81., 101.],\n",
       "        [119., 133.],\n",
       "        [ 22.,  37.],\n",
       "        [103., 119.]])"
      ]
     },
     "execution_count": 8,
     "metadata": {},
     "output_type": "execute_result"
    }
   ],
   "source": [
    "# Compare with targets\n",
    "targets"
   ]
  },
  {
   "cell_type": "markdown",
   "metadata": {},
   "source": [
    "You can see a big difference between our model's predictions and the actual targets because we've initialized our model with random weights and biases. Obviously, we can't expect a randomly initialized model to just work."
   ]
  },
  {
   "cell_type": "markdown",
   "metadata": {},
   "source": [
    "## Loss function"
   ]
  },
  {
   "cell_type": "markdown",
   "metadata": {},
   "source": [
    "Before we improve our model, we need a way to evaluate how well our model is performing. We can compare the model's predictions with the actual targets using the following method:\n",
    "\n",
    "- Calculate the difference between the two matrices (preds and targets).\n",
    "- Square all elements of the difference matrix to remove negative values.\n",
    "- Calculate the average of the elements in the resulting matrix.\n",
    "\n",
    "The result is a single number, known as the **mean squared error** (MSE)."
   ]
  },
  {
   "cell_type": "code",
   "execution_count": 9,
   "metadata": {},
   "outputs": [],
   "source": [
    "# MSE loss\n",
    "def mse(t1, t2):\n",
    "    diff = t1 - t2\n",
    "    return torch.sum(diff * diff) / diff.numel()"
   ]
  },
  {
   "cell_type": "markdown",
   "metadata": {},
   "source": [
    "`torch.sum` returns the sum of all the elements in a tensor. The `.numel` method of a tensor returns the number of elements in a tensor. Let's compute the mean squared error for the current predictions of our model."
   ]
  },
  {
   "cell_type": "code",
   "execution_count": 10,
   "metadata": {},
   "outputs": [
    {
     "data": {
      "text/plain": [
       "tensor(21101.0312, grad_fn=<DivBackward0>)"
      ]
     },
     "execution_count": 10,
     "metadata": {},
     "output_type": "execute_result"
    }
   ],
   "source": [
    "# Compute loss\n",
    "loss = mse(preds, targets)\n",
    "loss"
   ]
  },
  {
   "cell_type": "markdown",
   "metadata": {},
   "source": [
    "Here’s how we can interpret the result: *On average, each element in the prediction differs from the actual target by the square root of the loss*. And that’s pretty bad, considering the numbers we are trying to predict are themselves in the range 50–200. The result is called the *loss* because it indicates how bad the model is at predicting the target variables. It represents information loss in the model: the lower the loss, the better the model."
   ]
  },
  {
   "cell_type": "markdown",
   "metadata": {},
   "source": [
    "## Compute gradients"
   ]
  },
  {
   "cell_type": "markdown",
   "metadata": {},
   "source": [
    "With PyTorch, we can automatically compute the gradient or derivative of the loss w.r.t. to the weights and biases because they have `requires_grad` set to `True`."
   ]
  },
  {
   "cell_type": "code",
   "execution_count": 11,
   "metadata": {},
   "outputs": [],
   "source": [
    "# Compute Gradients\n",
    "loss.backward()"
   ]
  },
  {
   "cell_type": "markdown",
   "metadata": {},
   "source": [
    "The gradients are stored in the `.grad` property of the respective tensors. Note that the derivative of the loss w.r.t. the weights matrix is itself a matrix with the same dimensions."
   ]
  },
  {
   "cell_type": "code",
   "execution_count": 12,
   "metadata": {},
   "outputs": [
    {
     "data": {
      "text/plain": [
       "(tensor([[-0.6480, -0.2108,  0.3921],\n",
       "         [-0.0154, -0.0368, -0.9665]], requires_grad=True),\n",
       " tensor([[-10757.8975, -12042.1660,  -7306.9150],\n",
       "         [-12352.8037, -14087.6836,  -8662.8867]]))"
      ]
     },
     "execution_count": 12,
     "metadata": {},
     "output_type": "execute_result"
    }
   ],
   "source": [
    "# Gradients for weights\n",
    "w, w.grad"
   ]
  },
  {
   "cell_type": "markdown",
   "metadata": {},
   "source": [
    "## Adjust weights and biases to reduce the loss"
   ]
  },
  {
   "cell_type": "markdown",
   "metadata": {},
   "source": [
    "The loss is a quadratic function of our weights and biases, and our objective is to find the set of weights where the loss is the lowest. If we plot a graph of the loss w.r.t any individual weight or bias element, it will look like the figure shown below. An important insight from calculus is that the gradient indicates the rate of change of the loss, i.e., the loss function's slope w.r.t. the weights and biases."
   ]
  },
  {
   "cell_type": "markdown",
   "metadata": {},
   "source": [
    "If a gradient element is positive:\n",
    "\n",
    "- increasing the weight element's value slightly will increase the loss\n",
    "- decreasing the weight element's value slightly will decrease the loss\n",
    "\n",
    "![](https://i.imgur.com/WLzJ4xP.png)"
   ]
  },
  {
   "cell_type": "markdown",
   "metadata": {},
   "source": [
    "If a gradient element is negative:\n",
    "\n",
    "- increasing the weight element's value slightly will decrease the loss\n",
    "- decreasing the weight element's value slightly will increase the loss\n",
    "\n",
    "![](https://i.imgur.com/dvG2fxU.png)"
   ]
  },
  {
   "cell_type": "markdown",
   "metadata": {},
   "source": [
    "The increase or decrease in the loss by changing a weight element is proportional to the gradient of the loss w.r.t. that element. This observation forms the basis of the gradient descent optimization algorithm that we'll use to improve our model (*by descending along the gradient*)."
   ]
  },
  {
   "cell_type": "markdown",
   "metadata": {},
   "source": [
    "We can subtract from each weight element a small quantity proportional to the derivative of the loss w.r.t. that element to reduce the loss slightly."
   ]
  },
  {
   "cell_type": "code",
   "execution_count": 13,
   "metadata": {},
   "outputs": [],
   "source": [
    "with torch.no_grad():\n",
    "    w -= w.grad * 1e-5\n",
    "    b -= b.grad * 1e-5"
   ]
  },
  {
   "cell_type": "markdown",
   "metadata": {},
   "source": [
    "We multiply the gradients with a very small number (`10^-5` in this case) to ensure that we don't modify the weights by a very large amount. We want to take a small step in the downhill direction of the gradient, not a giant leap. This number is called the *learning rate* of the algorithm."
   ]
  },
  {
   "cell_type": "markdown",
   "metadata": {},
   "source": [
    "We use `torch.no_grad` to indicate to PyTorch that we shouldn't track, calculate, or modify gradients while updating the weights and biases."
   ]
  },
  {
   "cell_type": "code",
   "execution_count": 14,
   "metadata": {},
   "outputs": [
    {
     "data": {
      "text/plain": [
       "(tensor([[-0.5404, -0.0904,  0.4652],\n",
       "         [ 0.1081,  0.1041, -0.8799]], requires_grad=True),\n",
       " tensor([-1.0546, -0.4302], requires_grad=True))"
      ]
     },
     "execution_count": 14,
     "metadata": {},
     "output_type": "execute_result"
    }
   ],
   "source": [
    "w, b"
   ]
  },
  {
   "cell_type": "code",
   "execution_count": 15,
   "metadata": {},
   "outputs": [
    {
     "data": {
      "text/plain": [
       "tensor(14360.7754, grad_fn=<DivBackward0>)"
      ]
     },
     "execution_count": 15,
     "metadata": {},
     "output_type": "execute_result"
    }
   ],
   "source": [
    "# Let's verify that the loss is actually lower\n",
    "preds = model(inputs)\n",
    "loss = mse(preds, targets)\n",
    "loss"
   ]
  },
  {
   "cell_type": "markdown",
   "metadata": {},
   "source": [
    "Before we proceed, we reset the gradients to zero by invoking the `.zero_()` method. We need to do this because PyTorch accumulates gradients. Otherwise, the next time we invoke `.backward` on the loss, the new gradient values are added to the existing gradients, which may lead to unexpected results."
   ]
  },
  {
   "cell_type": "code",
   "execution_count": 16,
   "metadata": {},
   "outputs": [
    {
     "data": {
      "text/plain": [
       "(tensor([[0., 0., 0.],\n",
       "         [0., 0., 0.]]),\n",
       " tensor([0., 0.]))"
      ]
     },
     "execution_count": 16,
     "metadata": {},
     "output_type": "execute_result"
    }
   ],
   "source": [
    "w.grad.zero_()\n",
    "b.grad.zero_()\n",
    "w.grad, b.grad"
   ]
  },
  {
   "cell_type": "markdown",
   "metadata": {},
   "source": [
    "## Train the model using gradient descent"
   ]
  },
  {
   "cell_type": "markdown",
   "metadata": {},
   "source": [
    "As seen above, we reduce the loss and improve our model using the gradient descent optimization algorithm. Thus, we can train the model using the following steps:\n",
    "\n",
    "1. Generate predictions\n",
    "\n",
    "2. Calculate the loss\n",
    "\n",
    "3. Compute gradients w.r.t the weights and biases\n",
    "\n",
    "4. Adjust the weights by subtracting a small quantity proportional to the gradient\n",
    "\n",
    "5. Reset the gradients to zero\n",
    "\n",
    "Let's implement the above step by step."
   ]
  },
  {
   "cell_type": "code",
   "execution_count": 17,
   "metadata": {},
   "outputs": [
    {
     "data": {
      "text/plain": [
       "tensor([[-26.5564, -23.3998],\n",
       "        [-28.4126, -37.7458],\n",
       "        [-33.2018, -28.1104],\n",
       "        [-42.8483, -17.4837],\n",
       "        [-14.4565, -44.5707]], grad_fn=<AddBackward0>)"
      ]
     },
     "execution_count": 17,
     "metadata": {},
     "output_type": "execute_result"
    }
   ],
   "source": [
    "# Generative predictions\n",
    "preds = model(inputs)\n",
    "preds"
   ]
  },
  {
   "cell_type": "code",
   "execution_count": 18,
   "metadata": {},
   "outputs": [
    {
     "data": {
      "text/plain": [
       "tensor(14360.7754, grad_fn=<DivBackward0>)"
      ]
     },
     "execution_count": 18,
     "metadata": {},
     "output_type": "execute_result"
    }
   ],
   "source": [
    "# Calculate the loss\n",
    "loss = mse(preds, targets)\n",
    "loss"
   ]
  },
  {
   "cell_type": "code",
   "execution_count": 19,
   "metadata": {},
   "outputs": [
    {
     "data": {
      "text/plain": [
       "(tensor([[ -8788.7490,  -9923.7871,  -6000.2759],\n",
       "         [-10060.8760, -11620.3594,  -7141.2354]]),\n",
       " tensor([-105.2951, -122.2621]))"
      ]
     },
     "execution_count": 19,
     "metadata": {},
     "output_type": "execute_result"
    }
   ],
   "source": [
    "# Compute gradients\n",
    "loss.backward()\n",
    "w.grad, b.grad"
   ]
  },
  {
   "cell_type": "markdown",
   "metadata": {},
   "source": [
    "Let's update the weights and biases using the gradients computed above."
   ]
  },
  {
   "cell_type": "code",
   "execution_count": 20,
   "metadata": {},
   "outputs": [],
   "source": [
    "# Adjust weights & reset gradients\n",
    "with torch.no_grad():\n",
    "    w -= w.grad * 1e-5\n",
    "    b -= b.grad * 1e-5\n",
    "\n",
    "    w.grad.zero_()\n",
    "    b.grad.zero_()"
   ]
  },
  {
   "cell_type": "markdown",
   "metadata": {},
   "source": [
    "Let's take a look at the new weights and biases."
   ]
  },
  {
   "cell_type": "code",
   "execution_count": 21,
   "metadata": {},
   "outputs": [
    {
     "data": {
      "text/plain": [
       "(tensor([[-0.4525,  0.0088,  0.5252],\n",
       "         [ 0.2087,  0.2203, -0.8085]], requires_grad=True),\n",
       " tensor([-1.0536, -0.4290], requires_grad=True))"
      ]
     },
     "execution_count": 21,
     "metadata": {},
     "output_type": "execute_result"
    }
   ],
   "source": [
    "w, b"
   ]
  },
  {
   "cell_type": "markdown",
   "metadata": {},
   "source": [
    "With the new weights and biases, the model should have a lower loss."
   ]
  },
  {
   "cell_type": "code",
   "execution_count": 22,
   "metadata": {},
   "outputs": [
    {
     "data": {
      "text/plain": [
       "tensor(9817.1865, grad_fn=<DivBackward0>)"
      ]
     },
     "execution_count": 22,
     "metadata": {},
     "output_type": "execute_result"
    }
   ],
   "source": [
    "# Calculate loss\n",
    "preds = model(inputs)\n",
    "loss = mse(preds, targets)\n",
    "loss"
   ]
  },
  {
   "cell_type": "markdown",
   "metadata": {},
   "source": [
    "We have already achieved a significant reduction in the loss merely by adjusting the weights and biases slightly using gradient descent."
   ]
  },
  {
   "cell_type": "markdown",
   "metadata": {},
   "source": [
    "## Train for multiple epochs"
   ]
  },
  {
   "cell_type": "markdown",
   "metadata": {},
   "source": [
    "To reduce the loss further, we can repeat the process of adjusting the weights and biases using the gradients multiple times. Each iteration is called an *epoch*. Let's train the model for 100 epochs."
   ]
  },
  {
   "cell_type": "code",
   "execution_count": 23,
   "metadata": {},
   "outputs": [],
   "source": [
    "# Train for 100 epochs\n",
    "for i in range(100):\n",
    "    preds = model(inputs)\n",
    "    loss = mse(preds, targets)\n",
    "    loss.backward()\n",
    "    with torch.no_grad():\n",
    "        w -= w.grad * 1e-5\n",
    "        b -= b.grad * 1e-5\n",
    "        w.grad.zero_()\n",
    "        b.grad.zero_()"
   ]
  },
  {
   "cell_type": "markdown",
   "metadata": {},
   "source": [
    "Once again, let's verify that the loss is now lower:"
   ]
  },
  {
   "cell_type": "code",
   "execution_count": 24,
   "metadata": {},
   "outputs": [
    {
     "data": {
      "text/plain": [
       "tensor(179.0482, grad_fn=<DivBackward0>)"
      ]
     },
     "execution_count": 24,
     "metadata": {},
     "output_type": "execute_result"
    }
   ],
   "source": [
    "# Calculate loss\n",
    "preds = model(inputs)\n",
    "loss = mse(preds, targets)\n",
    "loss"
   ]
  },
  {
   "cell_type": "markdown",
   "metadata": {},
   "source": [
    "The loss is now much lower than its initial value. Let's look at the model's predictions and compare them with the targets."
   ]
  },
  {
   "cell_type": "code",
   "execution_count": 25,
   "metadata": {},
   "outputs": [
    {
     "data": {
      "text/plain": [
       "tensor([[ 59.0233,  75.0395],\n",
       "        [ 84.9754,  94.4582],\n",
       "        [109.4061, 139.4801],\n",
       "        [ 33.0554,  63.9750],\n",
       "        [ 99.5420,  92.5145]], grad_fn=<AddBackward0>)"
      ]
     },
     "execution_count": 25,
     "metadata": {},
     "output_type": "execute_result"
    }
   ],
   "source": [
    "# Predictions\n",
    "preds"
   ]
  },
  {
   "cell_type": "code",
   "execution_count": 26,
   "metadata": {},
   "outputs": [
    {
     "data": {
      "text/plain": [
       "tensor([[ 56.,  70.],\n",
       "        [ 81., 101.],\n",
       "        [119., 133.],\n",
       "        [ 22.,  37.],\n",
       "        [103., 119.]])"
      ]
     },
     "execution_count": 26,
     "metadata": {},
     "output_type": "execute_result"
    }
   ],
   "source": [
    "# Targets\n",
    "targets"
   ]
  },
  {
   "cell_type": "markdown",
   "metadata": {},
   "source": [
    "The predictions are now quite close to the target variables. We can get even better results by training for a few more epochs."
   ]
  },
  {
   "cell_type": "markdown",
   "metadata": {},
   "source": [
    "## Linear regression using PyTorch built-ins"
   ]
  },
  {
   "cell_type": "markdown",
   "metadata": {},
   "source": [
    "We've implemented linear regression & gradient descent model using some basic tensor operations. However, since this is a common pattern in deep learning, PyTorch provides several built-in functions and classes to make it easy to create and train models with just a few lines of code."
   ]
  },
  {
   "cell_type": "markdown",
   "metadata": {},
   "source": [
    "Let's begin by importing the `torch.nn` package from PyTorch, which contains utility classes for building neural networks."
   ]
  },
  {
   "cell_type": "code",
   "execution_count": 27,
   "metadata": {},
   "outputs": [],
   "source": [
    "import torch.nn as nn"
   ]
  },
  {
   "cell_type": "markdown",
   "metadata": {},
   "source": [
    "As before, we represent the inputs and targets as matrices."
   ]
  },
  {
   "cell_type": "code",
   "execution_count": 28,
   "metadata": {},
   "outputs": [],
   "source": [
    "# Input (temp, rainfall, humidity)\n",
    "inputs = np.array([[73, 67, 43], \n",
    "                   [91, 88, 64], \n",
    "                   [87, 134, 58], \n",
    "                   [102, 43, 37], \n",
    "                   [69, 96, 70], \n",
    "                   [74, 66, 43], \n",
    "                   [91, 87, 65], \n",
    "                   [88, 134, 59], \n",
    "                   [101, 44, 37], \n",
    "                   [68, 96, 71], \n",
    "                   [73, 66, 44], \n",
    "                   [92, 87, 64], \n",
    "                   [87, 135, 57], \n",
    "                   [103, 43, 36], \n",
    "                   [68, 97, 70]], \n",
    "                  dtype='float32')\n",
    "\n",
    "# Targets (apples, oranges)\n",
    "targets = np.array([[56, 70], \n",
    "                    [81, 101], \n",
    "                    [119, 133], \n",
    "                    [22, 37], \n",
    "                    [103, 119],\n",
    "                    [57, 69], \n",
    "                    [80, 102], \n",
    "                    [118, 132], \n",
    "                    [21, 38], \n",
    "                    [104, 118], \n",
    "                    [57, 69], \n",
    "                    [82, 100], \n",
    "                    [118, 134], \n",
    "                    [20, 38], \n",
    "                    [102, 120]], \n",
    "                   dtype='float32')\n",
    "\n",
    "inputs = torch.from_numpy(inputs)\n",
    "targets = torch.from_numpy(targets)"
   ]
  },
  {
   "cell_type": "code",
   "execution_count": 29,
   "metadata": {},
   "outputs": [
    {
     "data": {
      "text/plain": [
       "tensor([[ 73.,  67.,  43.],\n",
       "        [ 91.,  88.,  64.],\n",
       "        [ 87., 134.,  58.],\n",
       "        [102.,  43.,  37.],\n",
       "        [ 69.,  96.,  70.],\n",
       "        [ 74.,  66.,  43.],\n",
       "        [ 91.,  87.,  65.],\n",
       "        [ 88., 134.,  59.],\n",
       "        [101.,  44.,  37.],\n",
       "        [ 68.,  96.,  71.],\n",
       "        [ 73.,  66.,  44.],\n",
       "        [ 92.,  87.,  64.],\n",
       "        [ 87., 135.,  57.],\n",
       "        [103.,  43.,  36.],\n",
       "        [ 68.,  97.,  70.]])"
      ]
     },
     "execution_count": 29,
     "metadata": {},
     "output_type": "execute_result"
    }
   ],
   "source": [
    "inputs"
   ]
  },
  {
   "cell_type": "markdown",
   "metadata": {},
   "source": [
    "We are using 15 training examples to illustrate hoe to work with large datasets in small batches."
   ]
  },
  {
   "cell_type": "markdown",
   "metadata": {},
   "source": [
    "## Dataset and DataLoader"
   ]
  },
  {
   "cell_type": "markdown",
   "metadata": {},
   "source": [
    "We'll create a `TensorDataset`, which allows access to rows from `inputs` and `targets` as tuples, and provides standard APIs for working with many different types of datasets in PyTorch."
   ]
  },
  {
   "cell_type": "code",
   "execution_count": 30,
   "metadata": {},
   "outputs": [],
   "source": [
    "from torch.utils.data import TensorDataset"
   ]
  },
  {
   "cell_type": "code",
   "execution_count": 31,
   "metadata": {},
   "outputs": [
    {
     "data": {
      "text/plain": [
       "(tensor([[ 73.,  67.,  43.],\n",
       "         [ 91.,  88.,  64.],\n",
       "         [ 87., 134.,  58.]]),\n",
       " tensor([[ 56.,  70.],\n",
       "         [ 81., 101.],\n",
       "         [119., 133.]]))"
      ]
     },
     "execution_count": 31,
     "metadata": {},
     "output_type": "execute_result"
    }
   ],
   "source": [
    "# Define dataset\n",
    "train_ds = TensorDataset(inputs, targets)\n",
    "train_ds[0:3]"
   ]
  },
  {
   "cell_type": "markdown",
   "metadata": {},
   "source": [
    "The `TensorDataset` allows us to access a small section of the training data using the array indexing notation (`[0:3]` in the above code). It returns a tuple with two elements. The first element contains the input variables for the selected rows, and the second contains the targets."
   ]
  },
  {
   "cell_type": "markdown",
   "metadata": {},
   "source": [
    "We'll also create a `DataLoader`, which can split the data into batches of a predefined size while training. It also provides other utilities like shuffling and random sampling of the data."
   ]
  },
  {
   "cell_type": "code",
   "execution_count": 32,
   "metadata": {},
   "outputs": [],
   "source": [
    "from torch.utils.data import DataLoader"
   ]
  },
  {
   "cell_type": "code",
   "execution_count": 33,
   "metadata": {},
   "outputs": [],
   "source": [
    "# Define data loader\n",
    "batch_size = 5\n",
    "train_dl = DataLoader(train_ds, batch_size, shuffle=True)"
   ]
  },
  {
   "cell_type": "markdown",
   "metadata": {},
   "source": [
    "We can use the data loader in a `for` loop."
   ]
  },
  {
   "cell_type": "code",
   "execution_count": 34,
   "metadata": {},
   "outputs": [
    {
     "name": "stdout",
     "output_type": "stream",
     "text": [
      "tensor([[103.,  43.,  36.],\n",
      "        [ 87., 134.,  58.],\n",
      "        [ 73.,  66.,  44.],\n",
      "        [ 68.,  96.,  71.],\n",
      "        [ 68.,  97.,  70.]])\n",
      "tensor([[ 20.,  38.],\n",
      "        [119., 133.],\n",
      "        [ 57.,  69.],\n",
      "        [104., 118.],\n",
      "        [102., 120.]])\n"
     ]
    }
   ],
   "source": [
    "for xb, yb in train_dl:\n",
    "    print(xb)\n",
    "    print(yb)\n",
    "    break"
   ]
  },
  {
   "cell_type": "markdown",
   "metadata": {},
   "source": [
    "In each iteration, the data loader returns one batch of data with the given batch size. If `shuffle` is set to `True`, it shuffles the training data before creating batches. Shuffling helps randomize the input to the optimization algorithm, leading to a faster reduction in the loss."
   ]
  },
  {
   "cell_type": "markdown",
   "metadata": {},
   "source": [
    "## nn.Linear"
   ]
  },
  {
   "cell_type": "markdown",
   "metadata": {},
   "source": [
    "Instead of initializing the weights & biases manually, we can define the model using the `nn.Linear` class from PyTorch, which does it automatically."
   ]
  },
  {
   "cell_type": "code",
   "execution_count": 35,
   "metadata": {},
   "outputs": [
    {
     "data": {
      "text/plain": [
       "(Parameter containing:\n",
       " tensor([[-0.2375,  0.1250,  0.2450],\n",
       "         [-0.5572,  0.4403,  0.4337]], requires_grad=True),\n",
       " Parameter containing:\n",
       " tensor([-0.0580, -0.2719], requires_grad=True))"
      ]
     },
     "execution_count": 35,
     "metadata": {},
     "output_type": "execute_result"
    }
   ],
   "source": [
    "# Define model\n",
    "model = nn.Linear(3, 2)\n",
    "model.weight, model.bias"
   ]
  },
  {
   "cell_type": "markdown",
   "metadata": {},
   "source": [
    "PyTorch models also have a helpful `.parameters` method, which returns a list containing all the weights and bias matrices present in the model. For our linear regression model, we have one weight matrix and one bias matrix."
   ]
  },
  {
   "cell_type": "code",
   "execution_count": 36,
   "metadata": {},
   "outputs": [
    {
     "data": {
      "text/plain": [
       "[Parameter containing:\n",
       " tensor([[-0.2375,  0.1250,  0.2450],\n",
       "         [-0.5572,  0.4403,  0.4337]], requires_grad=True),\n",
       " Parameter containing:\n",
       " tensor([-0.0580, -0.2719], requires_grad=True)]"
      ]
     },
     "execution_count": 36,
     "metadata": {},
     "output_type": "execute_result"
    }
   ],
   "source": [
    "# Parameters\n",
    "list(model.parameters())"
   ]
  },
  {
   "cell_type": "markdown",
   "metadata": {},
   "source": [
    "We can use the model to generate predictions in the same way as before."
   ]
  },
  {
   "cell_type": "code",
   "execution_count": 37,
   "metadata": {},
   "outputs": [
    {
     "data": {
      "text/plain": [
       "tensor([[  1.5156,   7.2029],\n",
       "        [  5.0115,  15.5278],\n",
       "        [ 10.2430,  35.4083],\n",
       "        [ -9.8442, -22.1257],\n",
       "        [ 12.7080,  33.9111],\n",
       "        [  1.1531,   6.2054],\n",
       "        [  5.1316,  15.5212],\n",
       "        [ 10.2506,  35.2849],\n",
       "        [ -9.4816, -21.1282],\n",
       "        [ 13.1906,  34.9020],\n",
       "        [  1.6356,   7.1963],\n",
       "        [  4.6490,  14.5303],\n",
       "        [ 10.1230,  35.4149],\n",
       "        [-10.3268, -23.1166],\n",
       "        [ 13.0706,  34.9086]], grad_fn=<AddmmBackward>)"
      ]
     },
     "execution_count": 37,
     "metadata": {},
     "output_type": "execute_result"
    }
   ],
   "source": [
    "# Generate predictions\n",
    "preds = model(inputs)\n",
    "preds"
   ]
  },
  {
   "cell_type": "markdown",
   "metadata": {},
   "source": [
    "## Loss function"
   ]
  },
  {
   "cell_type": "markdown",
   "metadata": {},
   "source": [
    "Instead of defining a loss function manually, we can use the built-in loss function `mse_loss`."
   ]
  },
  {
   "cell_type": "code",
   "execution_count": 38,
   "metadata": {},
   "outputs": [],
   "source": [
    "# Import nn.functional\n",
    "import torch.nn.functional as F"
   ]
  },
  {
   "cell_type": "markdown",
   "metadata": {},
   "source": [
    "The `nn.functional` package contains many useful loss functions and several other utilities."
   ]
  },
  {
   "cell_type": "code",
   "execution_count": 39,
   "metadata": {},
   "outputs": [],
   "source": [
    "# Define loss function\n",
    "loss_fn = F.mse_loss"
   ]
  },
  {
   "cell_type": "markdown",
   "metadata": {},
   "source": [
    "Let's compute the loss for the current predictions of our model."
   ]
  },
  {
   "cell_type": "code",
   "execution_count": 40,
   "metadata": {},
   "outputs": [
    {
     "data": {
      "text/plain": [
       "tensor(6108.8911, grad_fn=<MseLossBackward>)"
      ]
     },
     "execution_count": 40,
     "metadata": {},
     "output_type": "execute_result"
    }
   ],
   "source": [
    "loss = loss_fn(model(inputs), targets)\n",
    "loss"
   ]
  },
  {
   "cell_type": "markdown",
   "metadata": {},
   "source": [
    "## Optimizer"
   ]
  },
  {
   "cell_type": "markdown",
   "metadata": {},
   "source": [
    "Instead of manually manipulating the model's weights & biases using gradients, we can use the optimizer `optim.SGD`. SGD is short for \"stochastic gradient descent\". The term *stochastic* indicates that samples are selected in random batches instead of as a single group."
   ]
  },
  {
   "cell_type": "code",
   "execution_count": 41,
   "metadata": {},
   "outputs": [],
   "source": [
    "# Define optimizer\n",
    "opt = torch.optim.SGD(model.parameters(), lr=1e-5)"
   ]
  },
  {
   "cell_type": "markdown",
   "metadata": {},
   "source": [
    "Note that `model.parameters()` is passed as an argument to `optim.SGD` so that the optimizer knows which matrices should be modified during the update step. Also, we can specify a learning rate that controls the amount by which the parameters are modified."
   ]
  },
  {
   "cell_type": "markdown",
   "metadata": {},
   "source": [
    "## Train the model"
   ]
  },
  {
   "cell_type": "markdown",
   "metadata": {},
   "source": [
    "We are now ready to train the model. We'll follow the same process to implement gradient descent:\n",
    "\n",
    "- Generate predictions\n",
    "\n",
    "- Calculate the loss\n",
    "\n",
    "- Compute gradients w.r.t the weights and biases\n",
    "\n",
    "- Adjust the weights by subtracting a small quantity proportional to the gradient\n",
    "\n",
    "- Reset the gradients to zero"
   ]
  },
  {
   "cell_type": "markdown",
   "metadata": {},
   "source": [
    "The only change is that we'll work on batches of data instead of processing the entire training data in every iteration. Let's define a utility function `fit` that trains the model for a given number of epochs."
   ]
  },
  {
   "cell_type": "code",
   "execution_count": 42,
   "metadata": {},
   "outputs": [],
   "source": [
    "# Utility function to train the model\n",
    "def fit(num_epochs, model, loss_fn, opt, train_dl):\n",
    "    \n",
    "    # Repeat for given number of epochs\n",
    "    for epoch in range(num_epochs):\n",
    "        \n",
    "        # Train with batches of data\n",
    "        for xb, yb in train_dl:\n",
    "            \n",
    "            # 1. Generate predictions\n",
    "            pred = model(xb)\n",
    "            \n",
    "            # 2. Calculate loss\n",
    "            loss = loss_fn(pred, yb)\n",
    "            \n",
    "            # 3. Compute gradients\n",
    "            loss.backward()\n",
    "            \n",
    "            # 4. Update parameters using gradients\n",
    "            opt.step()\n",
    "            \n",
    "            # 5. Reset the gradients to zero\n",
    "            opt.zero_grad()\n",
    "            \n",
    "        # Print the progress\n",
    "        if (epoch+1) % 10 == 0:\n",
    "            print(f'Epoch [{epoch+1}/{num_epochs}], Loss: {loss.item():.4f}')"
   ]
  },
  {
   "cell_type": "markdown",
   "metadata": {},
   "source": [
    "Some things to note above:\n",
    "\n",
    "- We use the data loader defined earlier to get batches of data for every iteration.\n",
    "\n",
    "- Instead of updating parameters (weights and biases) manually, we use `opt.step` to perform the update and `opt.zero_grad` to reset the gradients to zero.\n",
    "\n",
    "- We've also added a log statement that prints the loss from the last batch of data for every 10th epoch to track training progress. `loss.item` returns the actual value stored in the loss tensor."
   ]
  },
  {
   "cell_type": "markdown",
   "metadata": {},
   "source": [
    "Let's train the model for 100 epochs."
   ]
  },
  {
   "cell_type": "code",
   "execution_count": 43,
   "metadata": {},
   "outputs": [
    {
     "name": "stdout",
     "output_type": "stream",
     "text": [
      "Epoch [10/100], Loss: 152.5999\n",
      "Epoch [20/100], Loss: 31.2272\n",
      "Epoch [30/100], Loss: 71.0316\n",
      "Epoch [40/100], Loss: 32.5556\n",
      "Epoch [50/100], Loss: 20.8341\n",
      "Epoch [60/100], Loss: 25.4347\n",
      "Epoch [70/100], Loss: 19.3376\n",
      "Epoch [80/100], Loss: 15.7897\n",
      "Epoch [90/100], Loss: 8.5012\n",
      "Epoch [100/100], Loss: 6.0743\n"
     ]
    }
   ],
   "source": [
    "fit(100, model, loss_fn, opt, train_dl)"
   ]
  },
  {
   "cell_type": "markdown",
   "metadata": {},
   "source": [
    "Let's generate predictions using our model and verify that they're close to our targets."
   ]
  },
  {
   "cell_type": "code",
   "execution_count": 44,
   "metadata": {},
   "outputs": [
    {
     "data": {
      "text/plain": [
       "tensor([[ 57.7544,  70.5707],\n",
       "        [ 81.6282,  99.4921],\n",
       "        [117.7857, 135.0318],\n",
       "        [ 25.4765,  38.8062],\n",
       "        [ 98.4300, 116.0038],\n",
       "        [ 56.6149,  69.4816],\n",
       "        [ 81.3611,  99.3809],\n",
       "        [118.0455, 135.5269],\n",
       "        [ 26.6161,  39.8953],\n",
       "        [ 99.3024, 116.9817],\n",
       "        [ 57.4874,  70.4595],\n",
       "        [ 80.4886,  98.4030],\n",
       "        [118.0528, 135.1430],\n",
       "        [ 24.6041,  37.8283],\n",
       "        [ 99.5695, 117.0929]], grad_fn=<AddmmBackward>)"
      ]
     },
     "execution_count": 44,
     "metadata": {},
     "output_type": "execute_result"
    }
   ],
   "source": [
    "# Generate predictions\n",
    "preds = model(inputs)\n",
    "preds"
   ]
  },
  {
   "cell_type": "code",
   "execution_count": 45,
   "metadata": {},
   "outputs": [
    {
     "data": {
      "text/plain": [
       "tensor([[ 56.,  70.],\n",
       "        [ 81., 101.],\n",
       "        [119., 133.],\n",
       "        [ 22.,  37.],\n",
       "        [103., 119.],\n",
       "        [ 57.,  69.],\n",
       "        [ 80., 102.],\n",
       "        [118., 132.],\n",
       "        [ 21.,  38.],\n",
       "        [104., 118.],\n",
       "        [ 57.,  69.],\n",
       "        [ 82., 100.],\n",
       "        [118., 134.],\n",
       "        [ 20.,  38.],\n",
       "        [102., 120.]])"
      ]
     },
     "execution_count": 45,
     "metadata": {},
     "output_type": "execute_result"
    }
   ],
   "source": [
    "# Compare with targets\n",
    "targets"
   ]
  },
  {
   "cell_type": "markdown",
   "metadata": {},
   "source": [
    "Indeed, the predictions are quite close to our targets. We have a trained a reasonably good model to predict crop yields for apples and oranges by looking at the average temperature, rainfall, and humidity in a region. We can use it to make predictions of crop yields for new regions by passing a batch containing a single row of input."
   ]
  },
  {
   "cell_type": "code",
   "execution_count": 46,
   "metadata": {},
   "outputs": [
    {
     "data": {
      "text/plain": [
       "tensor([[54.3750, 67.4336]], grad_fn=<AddmmBackward>)"
      ]
     },
     "execution_count": 46,
     "metadata": {},
     "output_type": "execute_result"
    }
   ],
   "source": [
    "model(torch.tensor([[75, 63, 44.]]))"
   ]
  },
  {
   "cell_type": "markdown",
   "metadata": {},
   "source": [
    "The predicted yield of apples is 54.8 tons per hectare, and that of oranges is 68.5 tons per hectare."
   ]
  },
  {
   "cell_type": "code",
   "execution_count": 47,
   "metadata": {},
   "outputs": [
    {
     "data": {
      "text/plain": [
       "[Parameter containing:\n",
       " tensor([[-0.3063,  0.8332,  0.5662],\n",
       "         [-0.2414,  0.8477,  0.7365]], requires_grad=True),\n",
       " Parameter containing:\n",
       " tensor([-0.0566, -0.2676], requires_grad=True)]"
      ]
     },
     "execution_count": 47,
     "metadata": {},
     "output_type": "execute_result"
    }
   ],
   "source": [
    "list(model.parameters())"
   ]
  },
  {
   "cell_type": "markdown",
   "metadata": {},
   "source": [
    "## Further Reading\n",
    "\n",
    "Here are some resources for learning more about linear regression and gradient descent:\n",
    "\n",
    "- An visual & animated explanation of gradient descent: https://www.youtube.com/watch?v=IHZwWFHWa-w\n",
    "\n",
    "- For a more detailed explanation of derivates and gradient descent, see [these notes from a Udacity course](https://jovian.ai/outlink?url=https%3A%2F%2Fstorage.googleapis.com%2Fsupplemental_media%2Fudacityu%2F315142919%2FGradient%2520Descent.pdf).\n",
    "\n",
    "- For an animated visualization of how linear regression works, [see this post](https://jovian.ai/outlink?url=https%3A%2F%2Fhackernoon.com%2Fvisualizing-linear-regression-with-pytorch-9261f49edb09).\n",
    "\n",
    "- For a more mathematical treatment of matrix calculus, linear regression and gradient descent, you should check out [Andrew Ng's excellent course notes](https://jovian.ai/outlink?url=https%3A%2F%2Fgithub.com%2FCleo-Stanford-CS%2FCS229_Notes%2Fblob%2Fmaster%2Flectures%2Fcs229-notes1.pdf) from CS229 at Stanford University."
   ]
  },
  {
   "cell_type": "markdown",
   "metadata": {},
   "source": [
    "To practice and test your skills, you can participate in the [Boston Housing Price Prediction](https://jovian.ai/outlink?url=https%3A%2F%2Fwww.kaggle.com%2Fc%2Fboston-housing) competition on Kaggle."
   ]
  },
  {
   "cell_type": "markdown",
   "metadata": {},
   "source": [
    "## Exercise- \n",
    "\n",
    "### Q1. What is a linear regression model? Give an example of a problem formulated as a linear regression model."
   ]
  },
  {
   "cell_type": "markdown",
   "metadata": {},
   "source": [
    "**Ans:** Linear regression is a basic and commonly used type of predictive analysis.  The overall idea of regression is to examine two things: \n",
    "1. does a set of predictor variables do a good job in predicting an outcome (dependent) variable?  \n",
    "2. Which variables in particular are significant predictors of the outcome variable, and in what way do they–indicated by the magnitude and sign of the beta estimates–impact the outcome variable?  \n",
    "\n",
    "These regression estimates are used to explain the relationship between one dependent variable and one or more independent variables.  \n",
    "\n",
    "The simplest form of the regression equation with one dependent and one independent variable is defined by the formula:\n",
    "$\\ y = c + b*x\\$\n",
    "\n",
    "where y = estimated dependent variable score, c = constant, b = regression coefficient, and x = score on the independent variable.\n",
    "\n",
    "ex- Hosing price prediction."
   ]
  },
  {
   "cell_type": "markdown",
   "metadata": {},
   "source": [
    "### Q2. What are input and target variables in a dataset? Give an example."
   ]
  },
  {
   "cell_type": "markdown",
   "metadata": {},
   "source": [
    "The Boston Housing Dataset\n",
    "\n",
    "The Boston Housing Dataset is a derived from information collected by the U.S. Census Service concerning housing in the area of Boston MA. The following describes the dataset columns:\n",
    "\n",
    "- CRIM - per capita crime rate by town\n",
    "- ZN - proportion of residential land zoned for lots over 25,000 sq.ft.\n",
    "- INDUS - proportion of non-retail business acres per town.\n",
    "- CHAS - Charles River dummy variable (1 if tract bounds river; 0 otherwise)\n",
    "- NOX - nitric oxides concentration (parts per 10 million)\n",
    "- RM - average number of rooms per dwelling\n",
    "- AGE - proportion of owner-occupied units built prior to 1940\n",
    "- DIS - weighted distances to five Boston employment centres\n",
    "- RAD - index of accessibility to radial highways\n",
    "- TAX - full-value property-tax rate per $\\$10,000$\n",
    "- PTRATIO - pupil-teacher ratio by town\n",
    "- B - 1000(Bk - 0.63)^2 where Bk is the proportion of blacks by town\n",
    "- LSTAT - % lower status of the population\n",
    "- MEDV - Median value of owner-occupied homes in $1000's"
   ]
  },
  {
   "cell_type": "markdown",
   "metadata": {},
   "source": [
    "Ans: The dependent variable is dataset is called target while independent variable is called input or predictor variable\n",
    "\n",
    "Ex:- In above dataset description **CRIM, ZN, INDUS, CHAS, NOX, RM, AGE, DIS, RAD, TAX, PTRATIO, B, LSTAT** are the input variables and **MEDV** is target variable."
   ]
  },
  {
   "cell_type": "code",
   "execution_count": 48,
   "metadata": {},
   "outputs": [],
   "source": [
    "import pandas as pd "
   ]
  },
  {
   "cell_type": "code",
   "execution_count": 122,
   "metadata": {},
   "outputs": [
    {
     "data": {
      "text/html": [
       "<div>\n",
       "<style scoped>\n",
       "    .dataframe tbody tr th:only-of-type {\n",
       "        vertical-align: middle;\n",
       "    }\n",
       "\n",
       "    .dataframe tbody tr th {\n",
       "        vertical-align: top;\n",
       "    }\n",
       "\n",
       "    .dataframe thead th {\n",
       "        text-align: right;\n",
       "    }\n",
       "</style>\n",
       "<table border=\"1\" class=\"dataframe\">\n",
       "  <thead>\n",
       "    <tr style=\"text-align: right;\">\n",
       "      <th></th>\n",
       "      <th>0</th>\n",
       "      <th>1</th>\n",
       "      <th>2</th>\n",
       "      <th>3</th>\n",
       "      <th>4</th>\n",
       "      <th>5</th>\n",
       "      <th>6</th>\n",
       "      <th>7</th>\n",
       "      <th>8</th>\n",
       "      <th>9</th>\n",
       "      <th>10</th>\n",
       "      <th>11</th>\n",
       "      <th>12</th>\n",
       "      <th>13</th>\n",
       "    </tr>\n",
       "  </thead>\n",
       "  <tbody>\n",
       "    <tr>\n",
       "      <th>0</th>\n",
       "      <td>0.00632</td>\n",
       "      <td>18.0</td>\n",
       "      <td>2.31</td>\n",
       "      <td>0</td>\n",
       "      <td>0.538</td>\n",
       "      <td>6.575</td>\n",
       "      <td>65.2</td>\n",
       "      <td>4.0900</td>\n",
       "      <td>1</td>\n",
       "      <td>296.0</td>\n",
       "      <td>15.3</td>\n",
       "      <td>396.90</td>\n",
       "      <td>4.98</td>\n",
       "      <td>24.0</td>\n",
       "    </tr>\n",
       "    <tr>\n",
       "      <th>1</th>\n",
       "      <td>0.02731</td>\n",
       "      <td>0.0</td>\n",
       "      <td>7.07</td>\n",
       "      <td>0</td>\n",
       "      <td>0.469</td>\n",
       "      <td>6.421</td>\n",
       "      <td>78.9</td>\n",
       "      <td>4.9671</td>\n",
       "      <td>2</td>\n",
       "      <td>242.0</td>\n",
       "      <td>17.8</td>\n",
       "      <td>396.90</td>\n",
       "      <td>9.14</td>\n",
       "      <td>21.6</td>\n",
       "    </tr>\n",
       "    <tr>\n",
       "      <th>2</th>\n",
       "      <td>0.02729</td>\n",
       "      <td>0.0</td>\n",
       "      <td>7.07</td>\n",
       "      <td>0</td>\n",
       "      <td>0.469</td>\n",
       "      <td>7.185</td>\n",
       "      <td>61.1</td>\n",
       "      <td>4.9671</td>\n",
       "      <td>2</td>\n",
       "      <td>242.0</td>\n",
       "      <td>17.8</td>\n",
       "      <td>392.83</td>\n",
       "      <td>4.03</td>\n",
       "      <td>34.7</td>\n",
       "    </tr>\n",
       "    <tr>\n",
       "      <th>3</th>\n",
       "      <td>0.03237</td>\n",
       "      <td>0.0</td>\n",
       "      <td>2.18</td>\n",
       "      <td>0</td>\n",
       "      <td>0.458</td>\n",
       "      <td>6.998</td>\n",
       "      <td>45.8</td>\n",
       "      <td>6.0622</td>\n",
       "      <td>3</td>\n",
       "      <td>222.0</td>\n",
       "      <td>18.7</td>\n",
       "      <td>394.63</td>\n",
       "      <td>2.94</td>\n",
       "      <td>33.4</td>\n",
       "    </tr>\n",
       "    <tr>\n",
       "      <th>4</th>\n",
       "      <td>0.06905</td>\n",
       "      <td>0.0</td>\n",
       "      <td>2.18</td>\n",
       "      <td>0</td>\n",
       "      <td>0.458</td>\n",
       "      <td>7.147</td>\n",
       "      <td>54.2</td>\n",
       "      <td>6.0622</td>\n",
       "      <td>3</td>\n",
       "      <td>222.0</td>\n",
       "      <td>18.7</td>\n",
       "      <td>396.90</td>\n",
       "      <td>5.33</td>\n",
       "      <td>36.2</td>\n",
       "    </tr>\n",
       "  </tbody>\n",
       "</table>\n",
       "</div>"
      ],
      "text/plain": [
       "        0     1     2   3      4      5     6       7   8      9     10  \\\n",
       "0  0.00632  18.0  2.31   0  0.538  6.575  65.2  4.0900   1  296.0  15.3   \n",
       "1  0.02731   0.0  7.07   0  0.469  6.421  78.9  4.9671   2  242.0  17.8   \n",
       "2  0.02729   0.0  7.07   0  0.469  7.185  61.1  4.9671   2  242.0  17.8   \n",
       "3  0.03237   0.0  2.18   0  0.458  6.998  45.8  6.0622   3  222.0  18.7   \n",
       "4  0.06905   0.0  2.18   0  0.458  7.147  54.2  6.0622   3  222.0  18.7   \n",
       "\n",
       "       11    12    13  \n",
       "0  396.90  4.98  24.0  \n",
       "1  396.90  9.14  21.6  \n",
       "2  392.83  4.03  34.7  \n",
       "3  394.63  2.94  33.4  \n",
       "4  396.90  5.33  36.2  "
      ]
     },
     "execution_count": 122,
     "metadata": {},
     "output_type": "execute_result"
    }
   ],
   "source": [
    "data = pd.read_csv('housing.csv', delim_whitespace=' ', header=None)\n",
    "data.head()"
   ]
  },
  {
   "cell_type": "code",
   "execution_count": 123,
   "metadata": {},
   "outputs": [],
   "source": [
    "input = data.iloc[:, :-1]\n",
    "target = data.iloc[:, -1:]"
   ]
  },
  {
   "cell_type": "code",
   "execution_count": 124,
   "metadata": {},
   "outputs": [
    {
     "data": {
      "text/plain": [
       "tensor([[6.3200e-03, 1.8000e+01, 2.3100e+00,  ..., 1.5300e+01, 3.9690e+02,\n",
       "         4.9800e+00],\n",
       "        [2.7310e-02, 0.0000e+00, 7.0700e+00,  ..., 1.7800e+01, 3.9690e+02,\n",
       "         9.1400e+00],\n",
       "        [2.7290e-02, 0.0000e+00, 7.0700e+00,  ..., 1.7800e+01, 3.9283e+02,\n",
       "         4.0300e+00],\n",
       "        ...,\n",
       "        [6.0760e-02, 0.0000e+00, 1.1930e+01,  ..., 2.1000e+01, 3.9690e+02,\n",
       "         5.6400e+00],\n",
       "        [1.0959e-01, 0.0000e+00, 1.1930e+01,  ..., 2.1000e+01, 3.9345e+02,\n",
       "         6.4800e+00],\n",
       "        [4.7410e-02, 0.0000e+00, 1.1930e+01,  ..., 2.1000e+01, 3.9690e+02,\n",
       "         7.8800e+00]])"
      ]
     },
     "execution_count": 124,
     "metadata": {},
     "output_type": "execute_result"
    }
   ],
   "source": [
    "input = torch.tensor(input.values.astype(np.float32))\n",
    "input"
   ]
  },
  {
   "cell_type": "code",
   "execution_count": 125,
   "metadata": {
    "scrolled": true
   },
   "outputs": [
    {
     "data": {
      "text/plain": [
       "tensor([[24.0000],\n",
       "        [21.6000],\n",
       "        [34.7000],\n",
       "        [33.4000],\n",
       "        [36.2000],\n",
       "        [28.7000],\n",
       "        [22.9000],\n",
       "        [27.1000],\n",
       "        [16.5000],\n",
       "        [18.9000],\n",
       "        [15.0000],\n",
       "        [18.9000],\n",
       "        [21.7000],\n",
       "        [20.4000],\n",
       "        [18.2000],\n",
       "        [19.9000],\n",
       "        [23.1000],\n",
       "        [17.5000],\n",
       "        [20.2000],\n",
       "        [18.2000],\n",
       "        [13.6000],\n",
       "        [19.6000],\n",
       "        [15.2000],\n",
       "        [14.5000],\n",
       "        [15.6000],\n",
       "        [13.9000],\n",
       "        [16.6000],\n",
       "        [14.8000],\n",
       "        [18.4000],\n",
       "        [21.0000],\n",
       "        [12.7000],\n",
       "        [14.5000],\n",
       "        [13.2000],\n",
       "        [13.1000],\n",
       "        [13.5000],\n",
       "        [18.9000],\n",
       "        [20.0000],\n",
       "        [21.0000],\n",
       "        [24.7000],\n",
       "        [30.8000],\n",
       "        [34.9000],\n",
       "        [26.6000],\n",
       "        [25.3000],\n",
       "        [24.7000],\n",
       "        [21.2000],\n",
       "        [19.3000],\n",
       "        [20.0000],\n",
       "        [16.6000],\n",
       "        [14.4000],\n",
       "        [19.4000],\n",
       "        [19.7000],\n",
       "        [20.5000],\n",
       "        [25.0000],\n",
       "        [23.4000],\n",
       "        [18.9000],\n",
       "        [35.4000],\n",
       "        [24.7000],\n",
       "        [31.6000],\n",
       "        [23.3000],\n",
       "        [19.6000],\n",
       "        [18.7000],\n",
       "        [16.0000],\n",
       "        [22.2000],\n",
       "        [25.0000],\n",
       "        [33.0000],\n",
       "        [23.5000],\n",
       "        [19.4000],\n",
       "        [22.0000],\n",
       "        [17.4000],\n",
       "        [20.9000],\n",
       "        [24.2000],\n",
       "        [21.7000],\n",
       "        [22.8000],\n",
       "        [23.4000],\n",
       "        [24.1000],\n",
       "        [21.4000],\n",
       "        [20.0000],\n",
       "        [20.8000],\n",
       "        [21.2000],\n",
       "        [20.3000],\n",
       "        [28.0000],\n",
       "        [23.9000],\n",
       "        [24.8000],\n",
       "        [22.9000],\n",
       "        [23.9000],\n",
       "        [26.6000],\n",
       "        [22.5000],\n",
       "        [22.2000],\n",
       "        [23.6000],\n",
       "        [28.7000],\n",
       "        [22.6000],\n",
       "        [22.0000],\n",
       "        [22.9000],\n",
       "        [25.0000],\n",
       "        [20.6000],\n",
       "        [28.4000],\n",
       "        [21.4000],\n",
       "        [38.7000],\n",
       "        [43.8000],\n",
       "        [33.2000],\n",
       "        [27.5000],\n",
       "        [26.5000],\n",
       "        [18.6000],\n",
       "        [19.3000],\n",
       "        [20.1000],\n",
       "        [19.5000],\n",
       "        [19.5000],\n",
       "        [20.4000],\n",
       "        [19.8000],\n",
       "        [19.4000],\n",
       "        [21.7000],\n",
       "        [22.8000],\n",
       "        [18.8000],\n",
       "        [18.7000],\n",
       "        [18.5000],\n",
       "        [18.3000],\n",
       "        [21.2000],\n",
       "        [19.2000],\n",
       "        [20.4000],\n",
       "        [19.3000],\n",
       "        [22.0000],\n",
       "        [20.3000],\n",
       "        [20.5000],\n",
       "        [17.3000],\n",
       "        [18.8000],\n",
       "        [21.4000],\n",
       "        [15.7000],\n",
       "        [16.2000],\n",
       "        [18.0000],\n",
       "        [14.3000],\n",
       "        [19.2000],\n",
       "        [19.6000],\n",
       "        [23.0000],\n",
       "        [18.4000],\n",
       "        [15.6000],\n",
       "        [18.1000],\n",
       "        [17.4000],\n",
       "        [17.1000],\n",
       "        [13.3000],\n",
       "        [17.8000],\n",
       "        [14.0000],\n",
       "        [14.4000],\n",
       "        [13.4000],\n",
       "        [15.6000],\n",
       "        [11.8000],\n",
       "        [13.8000],\n",
       "        [15.6000],\n",
       "        [14.6000],\n",
       "        [17.8000],\n",
       "        [15.4000],\n",
       "        [21.5000],\n",
       "        [19.6000],\n",
       "        [15.3000],\n",
       "        [19.4000],\n",
       "        [17.0000],\n",
       "        [15.6000],\n",
       "        [13.1000],\n",
       "        [41.3000],\n",
       "        [24.3000],\n",
       "        [23.3000],\n",
       "        [27.0000],\n",
       "        [50.0000],\n",
       "        [50.0000],\n",
       "        [50.0000],\n",
       "        [22.7000],\n",
       "        [25.0000],\n",
       "        [50.0000],\n",
       "        [23.8000],\n",
       "        [23.8000],\n",
       "        [22.3000],\n",
       "        [17.4000],\n",
       "        [19.1000],\n",
       "        [23.1000],\n",
       "        [23.6000],\n",
       "        [22.6000],\n",
       "        [29.4000],\n",
       "        [23.2000],\n",
       "        [24.6000],\n",
       "        [29.9000],\n",
       "        [37.2000],\n",
       "        [39.8000],\n",
       "        [36.2000],\n",
       "        [37.9000],\n",
       "        [32.5000],\n",
       "        [26.4000],\n",
       "        [29.6000],\n",
       "        [50.0000],\n",
       "        [32.0000],\n",
       "        [29.8000],\n",
       "        [34.9000],\n",
       "        [37.0000],\n",
       "        [30.5000],\n",
       "        [36.4000],\n",
       "        [31.1000],\n",
       "        [29.1000],\n",
       "        [50.0000],\n",
       "        [33.3000],\n",
       "        [30.3000],\n",
       "        [34.6000],\n",
       "        [34.9000],\n",
       "        [32.9000],\n",
       "        [24.1000],\n",
       "        [42.3000],\n",
       "        [48.5000],\n",
       "        [50.0000],\n",
       "        [22.6000],\n",
       "        [24.4000],\n",
       "        [22.5000],\n",
       "        [24.4000],\n",
       "        [20.0000],\n",
       "        [21.7000],\n",
       "        [19.3000],\n",
       "        [22.4000],\n",
       "        [28.1000],\n",
       "        [23.7000],\n",
       "        [25.0000],\n",
       "        [23.3000],\n",
       "        [28.7000],\n",
       "        [21.5000],\n",
       "        [23.0000],\n",
       "        [26.7000],\n",
       "        [21.7000],\n",
       "        [27.5000],\n",
       "        [30.1000],\n",
       "        [44.8000],\n",
       "        [50.0000],\n",
       "        [37.6000],\n",
       "        [31.6000],\n",
       "        [46.7000],\n",
       "        [31.5000],\n",
       "        [24.3000],\n",
       "        [31.7000],\n",
       "        [41.7000],\n",
       "        [48.3000],\n",
       "        [29.0000],\n",
       "        [24.0000],\n",
       "        [25.1000],\n",
       "        [31.5000],\n",
       "        [23.7000],\n",
       "        [23.3000],\n",
       "        [22.0000],\n",
       "        [20.1000],\n",
       "        [22.2000],\n",
       "        [23.7000],\n",
       "        [17.6000],\n",
       "        [18.5000],\n",
       "        [24.3000],\n",
       "        [20.5000],\n",
       "        [24.5000],\n",
       "        [26.2000],\n",
       "        [24.4000],\n",
       "        [24.8000],\n",
       "        [29.6000],\n",
       "        [42.8000],\n",
       "        [21.9000],\n",
       "        [20.9000],\n",
       "        [44.0000],\n",
       "        [50.0000],\n",
       "        [36.0000],\n",
       "        [30.1000],\n",
       "        [33.8000],\n",
       "        [43.1000],\n",
       "        [48.8000],\n",
       "        [31.0000],\n",
       "        [36.5000],\n",
       "        [22.8000],\n",
       "        [30.7000],\n",
       "        [50.0000],\n",
       "        [43.5000],\n",
       "        [20.7000],\n",
       "        [21.1000],\n",
       "        [25.2000],\n",
       "        [24.4000],\n",
       "        [35.2000],\n",
       "        [32.4000],\n",
       "        [32.0000],\n",
       "        [33.2000],\n",
       "        [33.1000],\n",
       "        [29.1000],\n",
       "        [35.1000],\n",
       "        [45.4000],\n",
       "        [35.4000],\n",
       "        [46.0000],\n",
       "        [50.0000],\n",
       "        [32.2000],\n",
       "        [22.0000],\n",
       "        [20.1000],\n",
       "        [23.2000],\n",
       "        [22.3000],\n",
       "        [24.8000],\n",
       "        [28.5000],\n",
       "        [37.3000],\n",
       "        [27.9000],\n",
       "        [23.9000],\n",
       "        [21.7000],\n",
       "        [28.6000],\n",
       "        [27.1000],\n",
       "        [20.3000],\n",
       "        [22.5000],\n",
       "        [29.0000],\n",
       "        [24.8000],\n",
       "        [22.0000],\n",
       "        [26.4000],\n",
       "        [33.1000],\n",
       "        [36.1000],\n",
       "        [28.4000],\n",
       "        [33.4000],\n",
       "        [28.2000],\n",
       "        [22.8000],\n",
       "        [20.3000],\n",
       "        [16.1000],\n",
       "        [22.1000],\n",
       "        [19.4000],\n",
       "        [21.6000],\n",
       "        [23.8000],\n",
       "        [16.2000],\n",
       "        [17.8000],\n",
       "        [19.8000],\n",
       "        [23.1000],\n",
       "        [21.0000],\n",
       "        [23.8000],\n",
       "        [23.1000],\n",
       "        [20.4000],\n",
       "        [18.5000],\n",
       "        [25.0000],\n",
       "        [24.6000],\n",
       "        [23.0000],\n",
       "        [22.2000],\n",
       "        [19.3000],\n",
       "        [22.6000],\n",
       "        [19.8000],\n",
       "        [17.1000],\n",
       "        [19.4000],\n",
       "        [22.2000],\n",
       "        [20.7000],\n",
       "        [21.1000],\n",
       "        [19.5000],\n",
       "        [18.5000],\n",
       "        [20.6000],\n",
       "        [19.0000],\n",
       "        [18.7000],\n",
       "        [32.7000],\n",
       "        [16.5000],\n",
       "        [23.9000],\n",
       "        [31.2000],\n",
       "        [17.5000],\n",
       "        [17.2000],\n",
       "        [23.1000],\n",
       "        [24.5000],\n",
       "        [26.6000],\n",
       "        [22.9000],\n",
       "        [24.1000],\n",
       "        [18.6000],\n",
       "        [30.1000],\n",
       "        [18.2000],\n",
       "        [20.6000],\n",
       "        [17.8000],\n",
       "        [21.7000],\n",
       "        [22.7000],\n",
       "        [22.6000],\n",
       "        [25.0000],\n",
       "        [19.9000],\n",
       "        [20.8000],\n",
       "        [16.8000],\n",
       "        [21.9000],\n",
       "        [27.5000],\n",
       "        [21.9000],\n",
       "        [23.1000],\n",
       "        [50.0000],\n",
       "        [50.0000],\n",
       "        [50.0000],\n",
       "        [50.0000],\n",
       "        [50.0000],\n",
       "        [13.8000],\n",
       "        [13.8000],\n",
       "        [15.0000],\n",
       "        [13.9000],\n",
       "        [13.3000],\n",
       "        [13.1000],\n",
       "        [10.2000],\n",
       "        [10.4000],\n",
       "        [10.9000],\n",
       "        [11.3000],\n",
       "        [12.3000],\n",
       "        [ 8.8000],\n",
       "        [ 7.2000],\n",
       "        [10.5000],\n",
       "        [ 7.4000],\n",
       "        [10.2000],\n",
       "        [11.5000],\n",
       "        [15.1000],\n",
       "        [23.2000],\n",
       "        [ 9.7000],\n",
       "        [13.8000],\n",
       "        [12.7000],\n",
       "        [13.1000],\n",
       "        [12.5000],\n",
       "        [ 8.5000],\n",
       "        [ 5.0000],\n",
       "        [ 6.3000],\n",
       "        [ 5.6000],\n",
       "        [ 7.2000],\n",
       "        [12.1000],\n",
       "        [ 8.3000],\n",
       "        [ 8.5000],\n",
       "        [ 5.0000],\n",
       "        [11.9000],\n",
       "        [27.9000],\n",
       "        [17.2000],\n",
       "        [27.5000],\n",
       "        [15.0000],\n",
       "        [17.2000],\n",
       "        [17.9000],\n",
       "        [16.3000],\n",
       "        [ 7.0000],\n",
       "        [ 7.2000],\n",
       "        [ 7.5000],\n",
       "        [10.4000],\n",
       "        [ 8.8000],\n",
       "        [ 8.4000],\n",
       "        [16.7000],\n",
       "        [14.2000],\n",
       "        [20.8000],\n",
       "        [13.4000],\n",
       "        [11.7000],\n",
       "        [ 8.3000],\n",
       "        [10.2000],\n",
       "        [10.9000],\n",
       "        [11.0000],\n",
       "        [ 9.5000],\n",
       "        [14.5000],\n",
       "        [14.1000],\n",
       "        [16.1000],\n",
       "        [14.3000],\n",
       "        [11.7000],\n",
       "        [13.4000],\n",
       "        [ 9.6000],\n",
       "        [ 8.7000],\n",
       "        [ 8.4000],\n",
       "        [12.8000],\n",
       "        [10.5000],\n",
       "        [17.1000],\n",
       "        [18.4000],\n",
       "        [15.4000],\n",
       "        [10.8000],\n",
       "        [11.8000],\n",
       "        [14.9000],\n",
       "        [12.6000],\n",
       "        [14.1000],\n",
       "        [13.0000],\n",
       "        [13.4000],\n",
       "        [15.2000],\n",
       "        [16.1000],\n",
       "        [17.8000],\n",
       "        [14.9000],\n",
       "        [14.1000],\n",
       "        [12.7000],\n",
       "        [13.5000],\n",
       "        [14.9000],\n",
       "        [20.0000],\n",
       "        [16.4000],\n",
       "        [17.7000],\n",
       "        [19.5000],\n",
       "        [20.2000],\n",
       "        [21.4000],\n",
       "        [19.9000],\n",
       "        [19.0000],\n",
       "        [19.1000],\n",
       "        [19.1000],\n",
       "        [20.1000],\n",
       "        [19.9000],\n",
       "        [19.6000],\n",
       "        [23.2000],\n",
       "        [29.8000],\n",
       "        [13.8000],\n",
       "        [13.3000],\n",
       "        [16.7000],\n",
       "        [12.0000],\n",
       "        [14.6000],\n",
       "        [21.4000],\n",
       "        [23.0000],\n",
       "        [23.7000],\n",
       "        [25.0000],\n",
       "        [21.8000],\n",
       "        [20.6000],\n",
       "        [21.2000],\n",
       "        [19.1000],\n",
       "        [20.6000],\n",
       "        [15.2000],\n",
       "        [ 7.0000],\n",
       "        [ 8.1000],\n",
       "        [13.6000],\n",
       "        [20.1000],\n",
       "        [21.8000],\n",
       "        [24.5000],\n",
       "        [23.1000],\n",
       "        [19.7000],\n",
       "        [18.3000],\n",
       "        [21.2000],\n",
       "        [17.5000],\n",
       "        [16.8000],\n",
       "        [22.4000],\n",
       "        [20.6000],\n",
       "        [23.9000],\n",
       "        [22.0000],\n",
       "        [11.9000]])"
      ]
     },
     "execution_count": 125,
     "metadata": {},
     "output_type": "execute_result"
    }
   ],
   "source": [
    "target = torch.tensor(target.values.astype(np.float32))\n",
    "target"
   ]
  },
  {
   "cell_type": "markdown",
   "metadata": {},
   "source": [
    "### Q3. What are weights and biases in a linear regression model?"
   ]
  },
  {
   "cell_type": "markdown",
   "metadata": {},
   "source": [
    "Ans:\n",
    "\n",
    "**Weight** - Weight is the strength of the connection. If I increase the input then how much influence does it have on the output.\n",
    "\n",
    "**Bias** - as means how far off our predictions are from real values."
   ]
  },
  {
   "cell_type": "markdown",
   "metadata": {},
   "source": [
    "### Q4. How do you represent tabular data using PyTorch tensors?"
   ]
  },
  {
   "cell_type": "code",
   "execution_count": 144,
   "metadata": {},
   "outputs": [],
   "source": [
    "# import pandas as pd \n",
    "\n",
    "# data = pd.read_csv('housing.csv', delim_whitespace=' ', header=None)\n",
    "# data.head()\n",
    "\n",
    "# input = data.iloc[:, :-1]\n",
    "# target = data.iloc[:, -1:]\n",
    "\n",
    "# input = torch.tensor(input.values.astype(np.float32))\n",
    "# input\n",
    "\n",
    "# target = torch.tensor(target.values.astype(np.float32))\n",
    "# target"
   ]
  },
  {
   "cell_type": "markdown",
   "metadata": {},
   "source": [
    "### Q5. Why do we create separate matrices for inputs and targets while training a linear regression model?"
   ]
  },
  {
   "cell_type": "markdown",
   "metadata": {},
   "source": [
    "Ans: To build our model correctly without disturbing output or target variable and easy calculations like during accuracy comparison."
   ]
  },
  {
   "cell_type": "markdown",
   "metadata": {},
   "source": [
    "### Q6. How do you determine the shape of the weights matrix & bias vector given some training data?"
   ]
  },
  {
   "cell_type": "markdown",
   "metadata": {},
   "source": [
    "Ans: It depends on the no. of features, output and type of network you want to build.\n",
    "\n",
    "ex- In boston housing price predictions we have 13 features and 1 output variable so for simple linear regression our weight matrix shape will be (1, 13) and bias will be of (1, 1)."
   ]
  },
  {
   "cell_type": "markdown",
   "metadata": {},
   "source": [
    "### Q7. How do you create randomly initialized weights & biases with a given shape?"
   ]
  },
  {
   "cell_type": "code",
   "execution_count": 145,
   "metadata": {},
   "outputs": [
    {
     "data": {
      "text/plain": [
       "(tensor([[ 0.2480, -0.2941,  0.1674,  0.5883, -0.7377,  0.1029,  0.8168, -0.4203,\n",
       "          -1.1544,  1.0556, -0.0270,  0.7987, -0.7389]], requires_grad=True),\n",
       " tensor([-0.0887], requires_grad=True))"
      ]
     },
     "execution_count": 145,
     "metadata": {},
     "output_type": "execute_result"
    }
   ],
   "source": [
    "w = torch.randn(1, 13, requires_grad = True)\n",
    "b = torch.randn(1, requires_grad = True)\n",
    "w, b"
   ]
  },
  {
   "cell_type": "markdown",
   "metadata": {},
   "source": [
    "### Q8. How is a linear regression model implemented using matrix operations? Explain with an example."
   ]
  },
  {
   "cell_type": "code",
   "execution_count": 146,
   "metadata": {},
   "outputs": [],
   "source": [
    "def model(x):\n",
    "    return x @ w.T + b"
   ]
  },
  {
   "cell_type": "markdown",
   "metadata": {},
   "source": [
    "### Q9. How do you generate predictions using a linear regression model?"
   ]
  },
  {
   "cell_type": "code",
   "execution_count": 147,
   "metadata": {},
   "outputs": [
    {
     "data": {
      "text/plain": [
       "tensor([[ 671.0303],\n",
       "        [ 626.6833],\n",
       "        [ 612.7487],\n",
       "        [ 578.9152],\n",
       "        [ 585.8475],\n",
       "        [ 587.3077],\n",
       "        [ 678.7534],\n",
       "        [ 698.7872],\n",
       "        [ 685.7104],\n",
       "        [ 683.5519],\n",
       "        [ 692.7327],\n",
       "        [ 692.2111],\n",
       "        [ 649.7488],\n",
       "        [ 679.9258],\n",
       "        [ 683.6273],\n",
       "        [ 674.4949],\n",
       "        [ 646.7874],\n",
       "        [ 683.5679],\n",
       "        [ 570.9995],\n",
       "        [ 679.6152],\n",
       "        [ 684.4064],\n",
       "        [ 695.0481],\n",
       "        [ 697.0944],\n",
       "        [ 700.9874],\n",
       "        [ 698.4705],\n",
       "        [ 618.8132],\n",
       "        [ 682.3815],\n",
       "        [ 623.2155],\n",
       "        [ 696.2394],\n",
       "        [ 685.0545],\n",
       "        [ 666.6755],\n",
       "        [ 691.9011],\n",
       "        [ 551.3208],\n",
       "        [ 669.6241],\n",
       "        [ 581.6508],\n",
       "        [ 653.5284],\n",
       "        [ 631.2413],\n",
       "        [ 632.1476],\n",
       "        [ 619.2139],\n",
       "        [ 569.0978],\n",
       "        [ 565.9640],\n",
       "        [ 547.6849],\n",
       "        [ 548.3026],\n",
       "        [ 555.8825],\n",
       "        [ 577.6119],\n",
       "        [ 578.2914],\n",
       "        [ 574.9866],\n",
       "        [ 610.6508],\n",
       "        [ 612.9686],\n",
       "        [ 596.4868],\n",
       "        [ 586.8832],\n",
       "        [ 602.7180],\n",
       "        [ 573.9456],\n",
       "        [ 571.8094],\n",
       "        [ 811.7433],\n",
       "        [ 533.3080],\n",
       "        [ 641.0554],\n",
       "        [ 575.6412],\n",
       "        [ 611.3058],\n",
       "        [ 629.5673],\n",
       "        [ 640.6212],\n",
       "        [ 648.4822],\n",
       "        [ 648.1653],\n",
       "        [ 624.8533],\n",
       "        [ 572.3167],\n",
       "        [ 653.3036],\n",
       "        [ 660.0010],\n",
       "        [ 681.8367],\n",
       "        [ 691.2688],\n",
       "        [ 691.3705],\n",
       "        [ 623.6068],\n",
       "        [ 624.7222],\n",
       "        [ 631.1727],\n",
       "        [ 617.4438],\n",
       "        [ 729.7808],\n",
       "        [ 750.6017],\n",
       "        [ 765.0042],\n",
       "        [ 753.4077],\n",
       "        [ 757.4969],\n",
       "        [ 753.8245],\n",
       "        [ 623.4365],\n",
       "        [ 651.1243],\n",
       "        [ 621.2733],\n",
       "        [ 627.5187],\n",
       "        [ 604.8597],\n",
       "        [ 610.2549],\n",
       "        [ 599.4802],\n",
       "        [ 611.9327],\n",
       "        [ 665.0641],\n",
       "        [ 645.3062],\n",
       "        [ 642.4254],\n",
       "        [ 650.3380],\n",
       "        [ 626.1269],\n",
       "        [ 608.4209],\n",
       "        [ 645.1998],\n",
       "        [ 616.0722],\n",
       "        [ 649.2303],\n",
       "        [ 663.9727],\n",
       "        [ 629.7835],\n",
       "        [ 651.4033],\n",
       "        [ 773.1300],\n",
       "        [ 768.0180],\n",
       "        [ 518.0040],\n",
       "        [ 776.0351],\n",
       "        [ 777.6659],\n",
       "        [ 781.2631],\n",
       "        [ 776.9826],\n",
       "        [ 768.5709],\n",
       "        [ 785.5696],\n",
       "        [ 775.0857],\n",
       "        [ 748.5782],\n",
       "        [ 824.4858],\n",
       "        [ 828.7930],\n",
       "        [ 831.7032],\n",
       "        [ 821.0640],\n",
       "        [ 785.2886],\n",
       "        [ 813.7653],\n",
       "        [ 824.2482],\n",
       "        [ 768.2061],\n",
       "        [ 805.1505],\n",
       "        [ 556.1964],\n",
       "        [ 558.9026],\n",
       "        [ 563.7685],\n",
       "        [ 555.4399],\n",
       "        [ 567.4528],\n",
       "        [ 567.9941],\n",
       "        [ 544.2405],\n",
       "        [ 838.0086],\n",
       "        [ 845.5333],\n",
       "        [ 839.9907],\n",
       "        [ 846.0689],\n",
       "        [ 846.9593],\n",
       "        [ 838.8994],\n",
       "        [ 836.1274],\n",
       "        [ 736.5221],\n",
       "        [ 842.0247],\n",
       "        [ 825.0777],\n",
       "        [ 843.5389],\n",
       "        [ 836.7628],\n",
       "        [ 842.6158],\n",
       "        [ 827.8111],\n",
       "        [ 832.7943],\n",
       "        [ 802.0601],\n",
       "        [ 801.9286],\n",
       "        [ 797.6539],\n",
       "        [ 621.6537],\n",
       "        [ 626.8370],\n",
       "        [ 791.4684],\n",
       "        [ 763.0693],\n",
       "        [ 765.0826],\n",
       "        [ 788.9540],\n",
       "        [ 766.7441],\n",
       "        [ 759.5904],\n",
       "        [ 700.2302],\n",
       "        [ 746.2570],\n",
       "        [ 549.8181],\n",
       "        [ 557.8517],\n",
       "        [ 788.6434],\n",
       "        [ 781.7779],\n",
       "        [ 789.2570],\n",
       "        [ 765.0377],\n",
       "        [ 794.2277],\n",
       "        [ 812.9382],\n",
       "        [ 807.3952],\n",
       "        [ 804.0739],\n",
       "        [ 682.9048],\n",
       "        [ 793.2347],\n",
       "        [ 659.5270],\n",
       "        [ 729.8968],\n",
       "        [ 755.2925],\n",
       "        [ 721.9238],\n",
       "        [ 770.7907],\n",
       "        [ 684.3974],\n",
       "        [ 683.9142],\n",
       "        [ 668.9974],\n",
       "        [ 641.1777],\n",
       "        [ 650.7443],\n",
       "        [ 676.9850],\n",
       "        [ 674.1061],\n",
       "        [ 560.2668],\n",
       "        [ 577.7917],\n",
       "        [ 560.1259],\n",
       "        [ 585.8958],\n",
       "        [ 590.1374],\n",
       "        [ 574.3931],\n",
       "        [ 554.6758],\n",
       "        [ 553.3036],\n",
       "        [ 743.2175],\n",
       "        [ 725.8349],\n",
       "        [ 744.5095],\n",
       "        [ 714.3352],\n",
       "        [ 731.8149],\n",
       "        [ 730.1567],\n",
       "        [ 577.2579],\n",
       "        [ 571.6714],\n",
       "        [ 577.5671],\n",
       "        [ 660.5072],\n",
       "        [ 625.1696],\n",
       "        [ 658.3051],\n",
       "        [ 715.9867],\n",
       "        [ 704.8743],\n",
       "        [ 678.7059],\n",
       "        [ 664.7893],\n",
       "        [ 540.2258],\n",
       "        [ 538.0850],\n",
       "        [ 614.7695],\n",
       "        [ 637.6362],\n",
       "        [ 644.5009],\n",
       "        [ 630.0651],\n",
       "        [ 669.8382],\n",
       "        [ 664.7688],\n",
       "        [ 658.6233],\n",
       "        [ 632.6473],\n",
       "        [ 615.2316],\n",
       "        [ 552.5842],\n",
       "        [ 629.6544],\n",
       "        [ 636.3416],\n",
       "        [ 662.2812],\n",
       "        [ 667.3473],\n",
       "        [ 669.0078],\n",
       "        [ 693.0861],\n",
       "        [ 689.3713],\n",
       "        [ 682.9422],\n",
       "        [ 691.7778],\n",
       "        [ 683.0845],\n",
       "        [ 684.2250],\n",
       "        [ 692.2474],\n",
       "        [ 672.1677],\n",
       "        [ 626.8918],\n",
       "        [ 632.7829],\n",
       "        [ 663.3466],\n",
       "        [ 673.6269],\n",
       "        [ 680.5944],\n",
       "        [ 671.5821],\n",
       "        [ 650.8528],\n",
       "        [ 657.2126],\n",
       "        [ 680.2817],\n",
       "        [ 680.6118],\n",
       "        [ 612.4314],\n",
       "        [ 634.5479],\n",
       "        [ 647.4073],\n",
       "        [ 658.0819],\n",
       "        [ 631.2547],\n",
       "        [ 600.4495],\n",
       "        [ 681.8908],\n",
       "        [ 685.6288],\n",
       "        [ 664.5540],\n",
       "        [ 688.7682],\n",
       "        [ 663.6166],\n",
       "        [ 655.2288],\n",
       "        [ 654.2140],\n",
       "        [ 637.2429],\n",
       "        [ 642.1621],\n",
       "        [ 652.3002],\n",
       "        [ 639.4639],\n",
       "        [ 628.7493],\n",
       "        [ 559.7592],\n",
       "        [ 645.5048],\n",
       "        [ 648.9445],\n",
       "        [ 656.4016],\n",
       "        [ 640.2094],\n",
       "        [ 644.6198],\n",
       "        [ 646.1509],\n",
       "        [ 649.9483],\n",
       "        [ 645.4724],\n",
       "        [ 623.6747],\n",
       "        [ 631.7144],\n",
       "        [ 623.1580],\n",
       "        [ 618.8758],\n",
       "        [ 578.5619],\n",
       "        [ 560.2904],\n",
       "        [ 550.5489],\n",
       "        [ 583.0216],\n",
       "        [ 575.4342],\n",
       "        [ 592.7661],\n",
       "        [ 600.6101],\n",
       "        [ 597.7102],\n",
       "        [ 584.8945],\n",
       "        [ 588.7711],\n",
       "        [ 554.8392],\n",
       "        [ 574.1775],\n",
       "        [ 554.8776],\n",
       "        [ 554.8245],\n",
       "        [ 513.5841],\n",
       "        [ 597.0285],\n",
       "        [ 631.7655],\n",
       "        [ 514.9781],\n",
       "        [ 621.8405],\n",
       "        [ 633.1929],\n",
       "        [ 593.1557],\n",
       "        [ 566.2833],\n",
       "        [ 565.9904],\n",
       "        [ 561.5721],\n",
       "        [ 625.9661],\n",
       "        [ 644.1296],\n",
       "        [ 637.9217],\n",
       "        [ 650.0811],\n",
       "        [ 652.5817],\n",
       "        [ 655.3716],\n",
       "        [ 650.0292],\n",
       "        [ 694.9714],\n",
       "        [ 669.8279],\n",
       "        [ 642.7809],\n",
       "        [ 650.5233],\n",
       "        [ 557.9308],\n",
       "        [ 570.2925],\n",
       "        [ 586.4103],\n",
       "        [ 584.2201],\n",
       "        [ 697.3958],\n",
       "        [ 688.1058],\n",
       "        [ 618.4990],\n",
       "        [ 672.3796],\n",
       "        [ 698.1466],\n",
       "        [ 692.2844],\n",
       "        [ 696.6901],\n",
       "        [ 687.5305],\n",
       "        [ 682.4225],\n",
       "        [ 679.7020],\n",
       "        [ 679.1102],\n",
       "        [ 671.1062],\n",
       "        [ 650.6313],\n",
       "        [ 652.5070],\n",
       "        [ 648.2316],\n",
       "        [ 660.5161],\n",
       "        [ 641.4307],\n",
       "        [ 618.5544],\n",
       "        [ 631.9489],\n",
       "        [ 639.0916],\n",
       "        [ 766.5391],\n",
       "        [ 755.7319],\n",
       "        [ 761.0853],\n",
       "        [ 636.1213],\n",
       "        [ 610.0106],\n",
       "        [ 566.6639],\n",
       "        [ 565.9484],\n",
       "        [ 567.9117],\n",
       "        [ 576.5252],\n",
       "        [ 584.9977],\n",
       "        [ 569.7159],\n",
       "        [ 576.0276],\n",
       "        [ 587.0595],\n",
       "        [ 637.0384],\n",
       "        [ 795.6016],\n",
       "        [ 724.3842],\n",
       "        [ 695.7480],\n",
       "        [ 705.0213],\n",
       "        [ 689.7433],\n",
       "        [ 669.1484],\n",
       "        [ 596.1396],\n",
       "        [ 672.2025],\n",
       "        [ 685.8145],\n",
       "        [ 728.5866],\n",
       "        [ 729.8136],\n",
       "        [ 493.4637],\n",
       "        [ 637.5790],\n",
       "        [ 632.0961],\n",
       "        [1047.9640],\n",
       "        [1055.3912],\n",
       "        [1053.9893],\n",
       "        [1046.9158],\n",
       "        [1043.1665],\n",
       "        [1021.7770],\n",
       "        [1052.9198],\n",
       "        [1022.4402],\n",
       "        [1025.7318],\n",
       "        [1027.8486],\n",
       "        [ 994.6118],\n",
       "        [ 857.1772],\n",
       "        [1057.6239],\n",
       "        [1055.4570],\n",
       "        [1070.2660],\n",
       "        [1046.7789],\n",
       "        [1024.4766],\n",
       "        [1052.9891],\n",
       "        [1052.3937],\n",
       "        [1069.3282],\n",
       "        [1030.1193],\n",
       "        [1061.8026],\n",
       "        [1061.2422],\n",
       "        [1061.7837],\n",
       "        [1078.7640],\n",
       "        [1063.5728],\n",
       "        [1060.6367],\n",
       "        [1059.6494],\n",
       "        [ 962.1876],\n",
       "        [1055.6863],\n",
       "        [1060.9059],\n",
       "        [1049.1573],\n",
       "        [1037.5024],\n",
       "        [1061.4365],\n",
       "        [1060.3303],\n",
       "        [1033.9690],\n",
       "        [1057.1113],\n",
       "        [1060.6714],\n",
       "        [1062.6561],\n",
       "        [1060.4390],\n",
       "        [1059.7274],\n",
       "        [1059.0515],\n",
       "        [1062.7380],\n",
       "        [ 991.1362],\n",
       "        [1062.2748],\n",
       "        [1064.4032],\n",
       "        [1046.6345],\n",
       "        [1064.0060],\n",
       "        [1000.0693],\n",
       "        [1066.2152],\n",
       "        [1042.4346],\n",
       "        [1018.1973],\n",
       "        [ 990.8491],\n",
       "        [ 891.2782],\n",
       "        [ 766.2590],\n",
       "        [ 774.8159],\n",
       "        [ 761.0601],\n",
       "        [ 919.6012],\n",
       "        [ 813.1892],\n",
       "        [ 763.5883],\n",
       "        [ 752.1909],\n",
       "        [ 838.3315],\n",
       "        [ 774.9047],\n",
       "        [ 764.4620],\n",
       "        [1004.9914],\n",
       "        [1000.5764],\n",
       "        [ 974.0171],\n",
       "        [ 733.1228],\n",
       "        [ 727.0928],\n",
       "        [ 747.0061],\n",
       "        [ 736.9609],\n",
       "        [ 755.0132],\n",
       "        [ 804.0322],\n",
       "        [ 788.1682],\n",
       "        [ 803.1426],\n",
       "        [ 807.0564],\n",
       "        [ 809.0772],\n",
       "        [ 818.1133],\n",
       "        [ 827.1215],\n",
       "        [ 827.5552],\n",
       "        [ 765.4143],\n",
       "        [ 750.3609],\n",
       "        [ 782.1547],\n",
       "        [1056.1174],\n",
       "        [1054.2467],\n",
       "        [1052.6166],\n",
       "        [1063.8395],\n",
       "        [1056.1183],\n",
       "        [ 933.5905],\n",
       "        [ 773.7695],\n",
       "        [ 998.1102],\n",
       "        [1056.4248],\n",
       "        [1063.4230],\n",
       "        [ 987.8044],\n",
       "        [ 741.5981],\n",
       "        [1029.1223],\n",
       "        [1047.9060],\n",
       "        [1047.9199],\n",
       "        [ 747.5830],\n",
       "        [ 775.9613],\n",
       "        [ 744.0181],\n",
       "        [ 734.5537],\n",
       "        [ 952.3909],\n",
       "        [1053.4486],\n",
       "        [ 943.2248],\n",
       "        [1051.7067],\n",
       "        [1052.8105],\n",
       "        [1058.5055],\n",
       "        [1039.2336],\n",
       "        [ 973.3471],\n",
       "        [ 751.6840],\n",
       "        [1003.9773],\n",
       "        [1019.6565],\n",
       "        [1032.3513],\n",
       "        [1051.3131],\n",
       "        [1057.9957],\n",
       "        [1042.4609],\n",
       "        [1023.9358],\n",
       "        [1024.9539],\n",
       "        [ 982.1512],\n",
       "        [1057.2802],\n",
       "        [1020.8586],\n",
       "        [1048.4615],\n",
       "        [1048.9958],\n",
       "        [1039.8953],\n",
       "        [1047.4464],\n",
       "        [1051.4706],\n",
       "        [1015.9461],\n",
       "        [ 997.3947],\n",
       "        [1022.1437],\n",
       "        [1045.5902],\n",
       "        [1022.8423],\n",
       "        [1127.2477],\n",
       "        [1086.7220],\n",
       "        [1061.7407],\n",
       "        [1128.2687],\n",
       "        [1124.5825],\n",
       "        [ 758.2610],\n",
       "        [ 747.8314],\n",
       "        [ 730.4874],\n",
       "        [ 766.7726],\n",
       "        [ 770.0927],\n",
       "        [ 766.8549],\n",
       "        [ 770.9814],\n",
       "        [ 777.5341],\n",
       "        [ 649.9679],\n",
       "        [ 660.5600],\n",
       "        [ 674.9238],\n",
       "        [ 670.0596],\n",
       "        [ 664.6953]], grad_fn=<AddBackward0>)"
      ]
     },
     "execution_count": 147,
     "metadata": {},
     "output_type": "execute_result"
    }
   ],
   "source": [
    "preds = model(input)\n",
    "preds"
   ]
  },
  {
   "cell_type": "markdown",
   "metadata": {},
   "source": [
    "### Q10. Why are the predictions of a randomly initialized model different from the actual targets?"
   ]
  },
  {
   "cell_type": "markdown",
   "metadata": {},
   "source": [
    "Ans: Because weights and bias are initialized randomly so predictions are randomly generated."
   ]
  },
  {
   "cell_type": "markdown",
   "metadata": {},
   "source": [
    "### Q11. What is a loss function? What does the term “loss” signify?"
   ]
  },
  {
   "cell_type": "markdown",
   "metadata": {},
   "source": [
    "Ans: Loss function outputs the value which define how wrong our predictions are.\n",
    "\n",
    "loss- Difference between the actual target and square root of the loss i.e. how our predictions are far from target."
   ]
  },
  {
   "cell_type": "markdown",
   "metadata": {},
   "source": [
    "### Q12. What is mean squared error?"
   ]
  },
  {
   "cell_type": "markdown",
   "metadata": {},
   "source": [
    "Ans: Square of the difference between the actual target and the predictions divided by no of elements."
   ]
  },
  {
   "cell_type": "markdown",
   "metadata": {},
   "source": [
    "### Q13. Write a function to calculate mean squared using model predictions and actual targets."
   ]
  },
  {
   "cell_type": "code",
   "execution_count": 148,
   "metadata": {},
   "outputs": [],
   "source": [
    "def mse(t1, t2):\n",
    "    diff = t1 - t2\n",
    "    return torch.sum(diff * diff) / diff.numel()"
   ]
  },
  {
   "cell_type": "code",
   "execution_count": 149,
   "metadata": {},
   "outputs": [
    {
     "data": {
      "text/plain": [
       "tensor(556108.0625, grad_fn=<DivBackward0>)"
      ]
     },
     "execution_count": 149,
     "metadata": {},
     "output_type": "execute_result"
    }
   ],
   "source": [
    "loss = mse(preds, target)\n",
    "loss"
   ]
  },
  {
   "cell_type": "markdown",
   "metadata": {},
   "source": [
    "### Q14. What happens when you invoke the `.backward` function on the result of the mean squared error loss function?"
   ]
  },
  {
   "cell_type": "markdown",
   "metadata": {},
   "source": [
    "Ans: It automatically calculates the gradient of loss w.r.t. weights and biases."
   ]
  },
  {
   "cell_type": "code",
   "execution_count": 150,
   "metadata": {},
   "outputs": [],
   "source": [
    "loss.backward()"
   ]
  },
  {
   "cell_type": "markdown",
   "metadata": {},
   "source": [
    "### Q15. Why is the derivative of the loss w.r.t. the weights matrix itself a matrix? - What do its elements represent?"
   ]
  },
  {
   "cell_type": "markdown",
   "metadata": {},
   "source": [
    "Ans: Suppose a PyTorch gradient enabled tensors X as:\n",
    "\n",
    "X = **[x1, x2, ….. xn]** (Let this be the weights of some machine learning model)\n",
    "X undergoes some operations to form a vector **Y**.\n",
    "\n",
    "Y = f(X) = **[y1, y2, …. ym]**\n",
    "\n",
    "**Y** is then used to calculate a scalar loss ***l***. Suppose a vector ***v*** happens to be the gradient of the scalar loss ***l*** with respect the vector **Y** as follows:\n",
    "\n",
    "![](https://miro.medium.com/max/440/1*PLhFxIHfMUervwt-z8G4Iw.png)\n",
    "\n",
    "The vector ***v*** is called the `grad_tensor` and passed to the `backward()` function as an argument.\n",
    "\n",
    "To get the gradient of the loss ***l*** with respect to the weights **X** the Jacobian matrix **J** is vector-multiplied with the vector ***v***\n",
    "\n",
    "![](https://miro.medium.com/max/875/1*bAOzjl1KncUmXURr2nFvBA.png)"
   ]
  },
  {
   "cell_type": "markdown",
   "metadata": {},
   "source": [
    "### Q16. How is the derivate of the loss w.r.t. a weight element useful for reducing the loss? Explain with an example."
   ]
  },
  {
   "cell_type": "markdown",
   "metadata": {},
   "source": [
    "Ans: The loss is a quadratic function of our weights and biases. The increase or decrease in the loss by changing a weight element is proportional to the gradient of the loss w.r.t. that element."
   ]
  },
  {
   "cell_type": "markdown",
   "metadata": {},
   "source": [
    "### Q17. Suppose the derivative of the loss w.r.t. a weight element is positive. Should you increase or decrease the element’s value slightly to get a lower loss?"
   ]
  },
  {
   "cell_type": "markdown",
   "metadata": {},
   "source": [
    "Ans: Decrease"
   ]
  },
  {
   "cell_type": "markdown",
   "metadata": {},
   "source": [
    "### Q18. Suppose the derivative of the loss w.r.t. a weight element is negative. Should you increase or decrease the element’s value slightly to get a lower loss?"
   ]
  },
  {
   "cell_type": "markdown",
   "metadata": {},
   "source": [
    "Ans: Increase"
   ]
  },
  {
   "cell_type": "markdown",
   "metadata": {},
   "source": [
    "### Q19. How do you update the weights and biases of a model using their respective gradients to reduce the loss slightly?"
   ]
  },
  {
   "cell_type": "code",
   "execution_count": 151,
   "metadata": {},
   "outputs": [
    {
     "data": {
      "text/plain": [
       "(tensor([[ 0.1812, -0.4301, -0.0106,  0.5873, -0.7460,  0.0123, -0.2328, -0.4715,\n",
       "          -1.3167, -5.3943, -0.2984, -4.3627, -0.9349]], requires_grad=True),\n",
       " tensor([-0.1032], requires_grad=True))"
      ]
     },
     "execution_count": 151,
     "metadata": {},
     "output_type": "execute_result"
    }
   ],
   "source": [
    "with torch.no_grad():\n",
    "    w -= w.grad * 1e-5\n",
    "    b -= b.grad * 1e-5\n",
    "    \n",
    "w, b"
   ]
  },
  {
   "cell_type": "markdown",
   "metadata": {},
   "source": [
    "### Q20. What is the gradient descent optimization algorithm? Why is it called “gradient descent”?"
   ]
  },
  {
   "cell_type": "markdown",
   "metadata": {},
   "source": [
    "Ans: To make better predictions or reduce the loss we use gradient descent algorithm by increasing or decreasing the slope or gradient by means of learning rate and further updates the parameters.\n",
    "\n",
    "It is called gradient descent because descending through gradient to update parameters or reducing the loss."
   ]
  },
  {
   "cell_type": "markdown",
   "metadata": {},
   "source": [
    "### Q21. Why do you subtract a “small quantity” proportional to the gradient from the weights & biases, not the actual gradient itself?"
   ]
  },
  {
   "cell_type": "markdown",
   "metadata": {},
   "source": [
    "Ans: To ensure that we don't modify the weights by a very large amount. We want to take a small step in the downhill direction of the gradient, not a giant leap."
   ]
  },
  {
   "cell_type": "markdown",
   "metadata": {},
   "source": [
    "### Q22. What is learning rate? Why is it important?"
   ]
  },
  {
   "cell_type": "markdown",
   "metadata": {},
   "source": [
    "Ans: We multiply the gradients with a very small number to ensure that we don't modify the weights by a very large amount. We want to take a small step in the downhill direction of the gradient, not a giant leap. This number is called the learning rate of the algorithm.\n",
    "\n",
    "Because it controls how much we are adjusting the weights of our network with respect the loss gradient."
   ]
  },
  {
   "cell_type": "markdown",
   "metadata": {},
   "source": [
    "### Q23. What is `torch.no_grad`?"
   ]
  },
  {
   "cell_type": "markdown",
   "metadata": {},
   "source": [
    "Ans: torch. no_grad() basically skips the gradient calculation over the weights. That means you are not changing any weight in the specified layers."
   ]
  },
  {
   "cell_type": "markdown",
   "metadata": {},
   "source": [
    "### Q24. Why do you reset gradients to zero after updating weights and biases?"
   ]
  },
  {
   "cell_type": "markdown",
   "metadata": {},
   "source": [
    "Ans: Because PyTorch accumulates gradients, otherwise, the next time we invoke .backward on the loss, the new gradient values are added to the existing gradients, which may lead to unexpected results."
   ]
  },
  {
   "cell_type": "markdown",
   "metadata": {},
   "source": [
    "### Q25. What are the steps involved in training a linear regression model using gradient descent?"
   ]
  },
  {
   "cell_type": "markdown",
   "metadata": {},
   "source": [
    "Ans: The following steps are involved:\n",
    "\n",
    "- Generate predictions\n",
    "\n",
    "- Calculate the loss\n",
    "\n",
    "- Compute gradients w.r.t the weights and biases\n",
    "\n",
    "- Adjust the weights by subtracting a small quantity proportional to the gradient\n",
    "\n",
    "- Reset the gradients to zero"
   ]
  },
  {
   "cell_type": "markdown",
   "metadata": {},
   "source": [
    "### Q26. What is an epoch?"
   ]
  },
  {
   "cell_type": "markdown",
   "metadata": {},
   "source": [
    "Ans: No. of iterations to which our model iterates to updates the weights and biases."
   ]
  },
  {
   "cell_type": "markdown",
   "metadata": {},
   "source": [
    "### Q27. What is the benefit of training a model for multiple epochs?"
   ]
  },
  {
   "cell_type": "markdown",
   "metadata": {},
   "source": [
    "Ans: It very much reduce the loss to make better predictions."
   ]
  },
  {
   "cell_type": "markdown",
   "metadata": {},
   "source": [
    "### Q28. How do you make predictions using a trained model?"
   ]
  },
  {
   "cell_type": "code",
   "execution_count": 152,
   "metadata": {},
   "outputs": [
    {
     "data": {
      "text/plain": [
       "tensor([[-3364.1228],\n",
       "        [-3074.6418],\n",
       "        [-3047.9543],\n",
       "        [-2945.3831],\n",
       "        [-2959.4680],\n",
       "        [-2948.2913],\n",
       "        [-3450.2627],\n",
       "        [-3469.2566],\n",
       "        [-3435.4939],\n",
       "        [-3420.8088],\n",
       "        [-3451.1138],\n",
       "        [-3460.8232],\n",
       "        [-3424.6021],\n",
       "        [-3423.8928],\n",
       "        [-3357.2854],\n",
       "        [-3417.1743],\n",
       "        [-3370.7346],\n",
       "        [-3389.9963],\n",
       "        [-2949.9937],\n",
       "        [-3402.1064],\n",
       "        [-3355.0422],\n",
       "        [-3416.0461],\n",
       "        [-3440.1770],\n",
       "        [-3433.0020],\n",
       "        [-3427.5505],\n",
       "        [-3029.1875],\n",
       "        [-3349.2917],\n",
       "        [-3043.5159],\n",
       "        [-3396.4854],\n",
       "        [-3360.2832],\n",
       "        [-3284.2642],\n",
       "        [-3348.8750],\n",
       "        [-2729.5044],\n",
       "        [-3274.1785],\n",
       "        [-2794.4712],\n",
       "        [-3275.8647],\n",
       "        [-3191.5271],\n",
       "        [-3269.0664],\n",
       "        [-3252.5085],\n",
       "        [-3139.0923],\n",
       "        [-3135.4575],\n",
       "        [-2955.9128],\n",
       "        [-2948.7859],\n",
       "        [-2998.6655],\n",
       "        [-2986.3271],\n",
       "        [-3017.9683],\n",
       "        [-3021.5310],\n",
       "        [-3020.1499],\n",
       "        [-3051.8972],\n",
       "        [-3030.5916],\n",
       "        [-3082.6843],\n",
       "        [-3076.0232],\n",
       "        [-3075.1643],\n",
       "        [-3078.1860],\n",
       "        [-4332.7500],\n",
       "        [-3011.1072],\n",
       "        [-3482.7151],\n",
       "        [-3166.5452],\n",
       "        [-3280.8726],\n",
       "        [-3314.0020],\n",
       "        [-3314.4226],\n",
       "        [-3247.4651],\n",
       "        [-3316.6006],\n",
       "        [-3308.1001],\n",
       "        [-2923.8679],\n",
       "        [-3605.9102],\n",
       "        [-3614.2188],\n",
       "        [-3621.8901],\n",
       "        [-3633.1404],\n",
       "        [-3628.2334],\n",
       "        [-3341.1191],\n",
       "        [-3316.9810],\n",
       "        [-3371.6050],\n",
       "        [-3313.1558],\n",
       "        [-3892.2466],\n",
       "        [-3852.4609],\n",
       "        [-3820.1970],\n",
       "        [-3869.9724],\n",
       "        [-3871.7439],\n",
       "        [-3906.6360],\n",
       "        [-3284.7358],\n",
       "        [-3289.5913],\n",
       "        [-3285.7761],\n",
       "        [-3262.5818],\n",
       "        [-3096.2588],\n",
       "        [-3075.0220],\n",
       "        [-3094.4807],\n",
       "        [-3089.0828],\n",
       "        [-3223.2368],\n",
       "        [-3214.3542],\n",
       "        [-3200.8899],\n",
       "        [-3208.1143],\n",
       "        [-3224.8889],\n",
       "        [-3223.0791],\n",
       "        [-3240.9023],\n",
       "        [-3080.2932],\n",
       "        [-3235.1113],\n",
       "        [-3252.0300],\n",
       "        [-3227.6362],\n",
       "        [-3250.7556],\n",
       "        [-3835.6619],\n",
       "        [-3835.6436],\n",
       "        [-2424.6777],\n",
       "        [-3839.8674],\n",
       "        [-3831.5435],\n",
       "        [-3842.7642],\n",
       "        [-3850.8042],\n",
       "        [-3810.1187],\n",
       "        [-3844.2693],\n",
       "        [-3828.4990],\n",
       "        [-3827.5452],\n",
       "        [-4099.6860],\n",
       "        [-4105.0337],\n",
       "        [-4115.0176],\n",
       "        [-4070.4771],\n",
       "        [-3885.2498],\n",
       "        [-4089.3599],\n",
       "        [-4095.3704],\n",
       "        [-3853.9863],\n",
       "        [-4081.2920],\n",
       "        [-2751.6763],\n",
       "        [-2704.8206],\n",
       "        [-2712.0679],\n",
       "        [-2685.9971],\n",
       "        [-2718.0059],\n",
       "        [-2738.2788],\n",
       "        [-2639.1948],\n",
       "        [-4119.5288],\n",
       "        [-4139.3862],\n",
       "        [-4141.1772],\n",
       "        [-4128.8276],\n",
       "        [-4136.2642],\n",
       "        [-4086.7791],\n",
       "        [-4102.7559],\n",
       "        [-3556.0112],\n",
       "        [-4131.0850],\n",
       "        [-4058.2778],\n",
       "        [-4126.2544],\n",
       "        [-4123.5405],\n",
       "        [-4141.9424],\n",
       "        [-4107.8096],\n",
       "        [-4157.0522],\n",
       "        [-3965.1328],\n",
       "        [-3965.2471],\n",
       "        [-3967.6326],\n",
       "        [-2989.6323],\n",
       "        [-2963.4204],\n",
       "        [-3944.8540],\n",
       "        [-3791.8420],\n",
       "        [-3763.1707],\n",
       "        [-3848.4900],\n",
       "        [-3712.2598],\n",
       "        [-3715.2041],\n",
       "        [-3366.6570],\n",
       "        [-3622.7566],\n",
       "        [-2602.5928],\n",
       "        [-2609.7900],\n",
       "        [-3798.7358],\n",
       "        [-3759.3733],\n",
       "        [-3805.9126],\n",
       "        [-3690.9128],\n",
       "        [-3842.5093],\n",
       "        [-3910.0107],\n",
       "        [-3905.3652],\n",
       "        [-3942.3203],\n",
       "        [-3264.6892],\n",
       "        [-3823.1582],\n",
       "        [-3209.1755],\n",
       "        [-3515.0120],\n",
       "        [-3658.8093],\n",
       "        [-3497.1919],\n",
       "        [-3738.9746],\n",
       "        [-3375.8206],\n",
       "        [-3363.4280],\n",
       "        [-3350.5344],\n",
       "        [-3328.5107],\n",
       "        [-3346.3711],\n",
       "        [-3359.1267],\n",
       "        [-3340.8591],\n",
       "        [-2801.9766],\n",
       "        [-2804.2310],\n",
       "        [-2806.8833],\n",
       "        [-2797.4429],\n",
       "        [-2811.2419],\n",
       "        [-2791.9922],\n",
       "        [-2769.4907],\n",
       "        [-2781.8430],\n",
       "        [-3913.7283],\n",
       "        [-3861.1924],\n",
       "        [-3925.5901],\n",
       "        [-3838.3196],\n",
       "        [-3892.5918],\n",
       "        [-3893.2371],\n",
       "        [-3187.7258],\n",
       "        [-3116.4670],\n",
       "        [-3152.6558],\n",
       "        [-3562.6221],\n",
       "        [-3381.6309],\n",
       "        [-3545.4702],\n",
       "        [-3961.7249],\n",
       "        [-3906.3259],\n",
       "        [-3656.8318],\n",
       "        [-3654.5164],\n",
       "        [-2986.4771],\n",
       "        [-2975.5762],\n",
       "        [-3254.3115],\n",
       "        [-3252.7507],\n",
       "        [-3240.3513],\n",
       "        [-3198.0002],\n",
       "        [-3283.1580],\n",
       "        [-3259.9946],\n",
       "        [-3274.0051],\n",
       "        [-3239.7283],\n",
       "        [-3206.8572],\n",
       "        [-3059.3933],\n",
       "        [-3243.4016],\n",
       "        [-3241.1208],\n",
       "        [-3244.9568],\n",
       "        [-3271.8142],\n",
       "        [-3250.9827],\n",
       "        [-3411.5066],\n",
       "        [-3438.6760],\n",
       "        [-3403.6289],\n",
       "        [-3431.1658],\n",
       "        [-3375.5039],\n",
       "        [-3363.7063],\n",
       "        [-3386.7764],\n",
       "        [-3321.5149],\n",
       "        [-3328.3682],\n",
       "        [-3341.5776],\n",
       "        [-3351.2744],\n",
       "        [-3337.6941],\n",
       "        [-3376.9299],\n",
       "        [-3347.2312],\n",
       "        [-3267.7649],\n",
       "        [-3342.0667],\n",
       "        [-3394.9558],\n",
       "        [-3396.9658],\n",
       "        [-3312.8684],\n",
       "        [-3338.3923],\n",
       "        [-3377.6099],\n",
       "        [-3395.7915],\n",
       "        [-3296.7617],\n",
       "        [-3289.1702],\n",
       "        [-3463.2065],\n",
       "        [-3539.9104],\n",
       "        [-3527.5923],\n",
       "        [-3477.6035],\n",
       "        [-3463.6631],\n",
       "        [-3536.5532],\n",
       "        [-3545.7793],\n",
       "        [-3458.8440],\n",
       "        [-3498.3806],\n",
       "        [-3545.8557],\n",
       "        [-3472.1914],\n",
       "        [-3481.6892],\n",
       "        [-3063.3140],\n",
       "        [-3169.6008],\n",
       "        [-3147.2334],\n",
       "        [-3184.1575],\n",
       "        [-3186.2949],\n",
       "        [-3166.5696],\n",
       "        [-3159.2703],\n",
       "        [-3193.4399],\n",
       "        [-3165.6753],\n",
       "        [-3180.8513],\n",
       "        [-3153.6895],\n",
       "        [-3144.8748],\n",
       "        [-3162.8796],\n",
       "        [-2957.1226],\n",
       "        [-2941.0540],\n",
       "        [-2965.0671],\n",
       "        [-2967.3047],\n",
       "        [-2945.9338],\n",
       "        [-3142.1555],\n",
       "        [-3144.6143],\n",
       "        [-3115.2043],\n",
       "        [-3126.8274],\n",
       "        [-3146.0068],\n",
       "        [-2930.6865],\n",
       "        [-2895.6484],\n",
       "        [-2911.8027],\n",
       "        [-2846.4810],\n",
       "        [-2848.9370],\n",
       "        [-3319.9990],\n",
       "        [-3388.7927],\n",
       "        [-2855.5310],\n",
       "        [-3365.3281],\n",
       "        [-3369.0850],\n",
       "        [-3255.7290],\n",
       "        [-3110.9729],\n",
       "        [-3111.1299],\n",
       "        [-3111.2087],\n",
       "        [-3315.9561],\n",
       "        [-3323.2234],\n",
       "        [-3316.9539],\n",
       "        [-3304.9802],\n",
       "        [-3332.3420],\n",
       "        [-3592.1553],\n",
       "        [-3604.1533],\n",
       "        [-3698.2222],\n",
       "        [-3551.2068],\n",
       "        [-3492.3354],\n",
       "        [-3518.3574],\n",
       "        [-2962.2849],\n",
       "        [-2966.4170],\n",
       "        [-2982.6331],\n",
       "        [-2983.3025],\n",
       "        [-3407.6597],\n",
       "        [-3408.4395],\n",
       "        [-3201.4316],\n",
       "        [-3401.7241],\n",
       "        [-3413.4155],\n",
       "        [-3395.5771],\n",
       "        [-3408.0874],\n",
       "        [-3411.3057],\n",
       "        [-3394.0278],\n",
       "        [-3416.1953],\n",
       "        [-3402.2866],\n",
       "        [-3407.2080],\n",
       "        [-3313.6604],\n",
       "        [-3313.8157],\n",
       "        [-3313.6257],\n",
       "        [-3297.9268],\n",
       "        [-3309.8643],\n",
       "        [-3289.2844],\n",
       "        [-3307.6201],\n",
       "        [-3317.2878],\n",
       "        [-4016.5325],\n",
       "        [-3980.5225],\n",
       "        [-3956.9995],\n",
       "        [-3402.0688],\n",
       "        [-3257.9753],\n",
       "        [-2938.8232],\n",
       "        [-2938.5669],\n",
       "        [-2971.3140],\n",
       "        [-2975.3823],\n",
       "        [-2970.2524],\n",
       "        [-2968.5657],\n",
       "        [-2974.9138],\n",
       "        [-2977.5422],\n",
       "        [-3295.4138],\n",
       "        [-4009.1204],\n",
       "        [-3785.9192],\n",
       "        [-3738.3108],\n",
       "        [-3616.1199],\n",
       "        [-3527.2524],\n",
       "        [-3669.4402],\n",
       "        [-3277.5359],\n",
       "        [-3550.3369],\n",
       "        [-3583.4827],\n",
       "        [-3890.0828],\n",
       "        [-3982.2090],\n",
       "        [-2755.0730],\n",
       "        [-3535.9639],\n",
       "        [-3503.5793],\n",
       "        [-5316.8838],\n",
       "        [-5371.8315],\n",
       "        [-5386.0928],\n",
       "        [-5366.9126],\n",
       "        [-5293.2705],\n",
       "        [-5195.6870],\n",
       "        [-5324.5771],\n",
       "        [-5205.2100],\n",
       "        [-5201.6963],\n",
       "        [-5205.5435],\n",
       "        [-5044.2871],\n",
       "        [-4238.3105],\n",
       "        [-5295.3081],\n",
       "        [-5293.4365],\n",
       "        [-5365.5903],\n",
       "        [-5259.4131],\n",
       "        [-5176.2773],\n",
       "        [-5416.8706],\n",
       "        [-5418.5146],\n",
       "        [-5394.9390],\n",
       "        [-5256.0249],\n",
       "        [-5404.2407],\n",
       "        [-5403.4390],\n",
       "        [-5389.8013],\n",
       "        [-5384.5469],\n",
       "        [-5403.1431],\n",
       "        [-5406.9834],\n",
       "        [-5408.0752],\n",
       "        [-4924.9092],\n",
       "        [-5411.8306],\n",
       "        [-5408.5605],\n",
       "        [-5409.9297],\n",
       "        [-5308.0073],\n",
       "        [-5404.4155],\n",
       "        [-5390.0059],\n",
       "        [-5318.5625],\n",
       "        [-5407.8921],\n",
       "        [-5397.5640],\n",
       "        [-5398.3008],\n",
       "        [-5379.3184],\n",
       "        [-5402.7280],\n",
       "        [-5387.0005],\n",
       "        [-5408.1860],\n",
       "        [-5151.3237],\n",
       "        [-5407.0664],\n",
       "        [-5402.9839],\n",
       "        [-5313.1436],\n",
       "        [-5399.6968],\n",
       "        [-5107.0405],\n",
       "        [-5343.6318],\n",
       "        [-5288.0498],\n",
       "        [-5112.8389],\n",
       "        [-5050.4185],\n",
       "        [-4453.2412],\n",
       "        [-3666.3799],\n",
       "        [-3825.1016],\n",
       "        [-3809.2593],\n",
       "        [-4588.9312],\n",
       "        [-4066.4360],\n",
       "        [-3797.8699],\n",
       "        [-3769.2024],\n",
       "        [-4228.3354],\n",
       "        [-3732.8125],\n",
       "        [-3880.1316],\n",
       "        [-5057.8027],\n",
       "        [-5063.4595],\n",
       "        [-4935.1904],\n",
       "        [-3683.1687],\n",
       "        [-3678.6799],\n",
       "        [-3707.5085],\n",
       "        [-3765.7251],\n",
       "        [-3739.0171],\n",
       "        [-4090.8479],\n",
       "        [-3939.8687],\n",
       "        [-4030.9246],\n",
       "        [-4025.2273],\n",
       "        [-4086.7483],\n",
       "        [-4103.7949],\n",
       "        [-4104.8345],\n",
       "        [-4153.0063],\n",
       "        [-3787.8616],\n",
       "        [-3717.8286],\n",
       "        [-3982.4695],\n",
       "        [-5404.9937],\n",
       "        [-5377.8740],\n",
       "        [-5354.9390],\n",
       "        [-5396.0103],\n",
       "        [-5358.2383],\n",
       "        [-4723.6426],\n",
       "        [-3862.3552],\n",
       "        [-5057.3135],\n",
       "        [-5363.1167],\n",
       "        [-5401.8643],\n",
       "        [-4998.7788],\n",
       "        [-3670.1162],\n",
       "        [-5220.5830],\n",
       "        [-5348.7466],\n",
       "        [-5309.2271],\n",
       "        [-3698.9746],\n",
       "        [-3890.5081],\n",
       "        [-3715.3174],\n",
       "        [-3680.6145],\n",
       "        [-4853.1348],\n",
       "        [-5396.0024],\n",
       "        [-4781.1401],\n",
       "        [-5373.5117],\n",
       "        [-5395.0444],\n",
       "        [-5379.9351],\n",
       "        [-5390.0781],\n",
       "        [-5115.1538],\n",
       "        [-3763.3921],\n",
       "        [-5118.5557],\n",
       "        [-5271.6367],\n",
       "        [-5388.4282],\n",
       "        [-5397.8892],\n",
       "        [-5389.4526],\n",
       "        [-5378.6621],\n",
       "        [-5292.5269],\n",
       "        [-5207.9712],\n",
       "        [-4996.8442],\n",
       "        [-5398.9316],\n",
       "        [-5199.8242],\n",
       "        [-5325.9849],\n",
       "        [-5334.3057],\n",
       "        [-5388.0874],\n",
       "        [-5370.9194],\n",
       "        [-5380.3965],\n",
       "        [-5365.6118],\n",
       "        [-5271.8447],\n",
       "        [-5349.5283],\n",
       "        [-5377.2769],\n",
       "        [-5348.2979],\n",
       "        [-5610.3745],\n",
       "        [-5394.4927],\n",
       "        [-5288.0181],\n",
       "        [-5590.1016],\n",
       "        [-5611.8628],\n",
       "        [-3879.8408],\n",
       "        [-3878.6418],\n",
       "        [-3863.6462],\n",
       "        [-3892.9561],\n",
       "        [-3885.8823],\n",
       "        [-3883.3196],\n",
       "        [-3882.3491],\n",
       "        [-3888.0349],\n",
       "        [-3217.2434],\n",
       "        [-3239.8010],\n",
       "        [-3239.8445],\n",
       "        [-3225.2805],\n",
       "        [-3239.7371]], grad_fn=<AddBackward0>)"
      ]
     },
     "execution_count": 152,
     "metadata": {},
     "output_type": "execute_result"
    }
   ],
   "source": [
    "preds = model(input)\n",
    "preds"
   ]
  },
  {
   "cell_type": "markdown",
   "metadata": {},
   "source": [
    "### Q29. What should you do if your model’s loss doesn’t decrease while training? Hint: learning rate."
   ]
  },
  {
   "cell_type": "markdown",
   "metadata": {},
   "source": [
    "Ans: We try different learning rate to optimize the model."
   ]
  },
  {
   "cell_type": "markdown",
   "metadata": {},
   "source": [
    "### Q30. What is `torch.nn`?"
   ]
  },
  {
   "cell_type": "markdown",
   "metadata": {},
   "source": [
    "Ans: PyTorch provides the modules and classes to help you create and train neural networks."
   ]
  },
  {
   "cell_type": "markdown",
   "metadata": {},
   "source": [
    "### Q31. What is the purpose of the `TensorDataset` class in PyTorch? Give an example."
   ]
  },
  {
   "cell_type": "markdown",
   "metadata": {},
   "source": [
    "Ans: The TensorDataset allows us to access a small section of the training data using the array indexing notation. It returns a tuple with two elements. The first element contains the input variables for the selected rows, and the second contains the targets."
   ]
  },
  {
   "cell_type": "code",
   "execution_count": 153,
   "metadata": {},
   "outputs": [
    {
     "data": {
      "text/plain": [
       "(tensor([[6.3200e-03, 1.8000e+01, 2.3100e+00, 0.0000e+00, 5.3800e-01, 6.5750e+00,\n",
       "          6.5200e+01, 4.0900e+00, 1.0000e+00, 2.9600e+02, 1.5300e+01, 3.9690e+02,\n",
       "          4.9800e+00],\n",
       "         [2.7310e-02, 0.0000e+00, 7.0700e+00, 0.0000e+00, 4.6900e-01, 6.4210e+00,\n",
       "          7.8900e+01, 4.9671e+00, 2.0000e+00, 2.4200e+02, 1.7800e+01, 3.9690e+02,\n",
       "          9.1400e+00],\n",
       "         [2.7290e-02, 0.0000e+00, 7.0700e+00, 0.0000e+00, 4.6900e-01, 7.1850e+00,\n",
       "          6.1100e+01, 4.9671e+00, 2.0000e+00, 2.4200e+02, 1.7800e+01, 3.9283e+02,\n",
       "          4.0300e+00],\n",
       "         [3.2370e-02, 0.0000e+00, 2.1800e+00, 0.0000e+00, 4.5800e-01, 6.9980e+00,\n",
       "          4.5800e+01, 6.0622e+00, 3.0000e+00, 2.2200e+02, 1.8700e+01, 3.9463e+02,\n",
       "          2.9400e+00],\n",
       "         [6.9050e-02, 0.0000e+00, 2.1800e+00, 0.0000e+00, 4.5800e-01, 7.1470e+00,\n",
       "          5.4200e+01, 6.0622e+00, 3.0000e+00, 2.2200e+02, 1.8700e+01, 3.9690e+02,\n",
       "          5.3300e+00]]),\n",
       " tensor([[24.0000],\n",
       "         [21.6000],\n",
       "         [34.7000],\n",
       "         [33.4000],\n",
       "         [36.2000]]))"
      ]
     },
     "execution_count": 153,
     "metadata": {},
     "output_type": "execute_result"
    }
   ],
   "source": [
    "train_ds = TensorDataset(input, target)\n",
    "train_ds[0:5]"
   ]
  },
  {
   "cell_type": "markdown",
   "metadata": {},
   "source": [
    "### Q32. What is a data loader in PyTorch? Give an example."
   ]
  },
  {
   "cell_type": "markdown",
   "metadata": {},
   "source": [
    "Ans: A DataLoader is a module, which can split the data into batches of a predefined size while training. It also provides other utilities like shuffling and random sampling of the data."
   ]
  },
  {
   "cell_type": "code",
   "execution_count": 154,
   "metadata": {},
   "outputs": [],
   "source": [
    "from torch.utils.data import DataLoader\n",
    "\n",
    "batch_size = 10\n",
    "train_dl = DataLoader(train_ds, batch_size, shuffle=True)"
   ]
  },
  {
   "cell_type": "markdown",
   "metadata": {},
   "source": [
    "### Q33. How do you use a data loader to retrieve batches of data?"
   ]
  },
  {
   "cell_type": "code",
   "execution_count": 155,
   "metadata": {},
   "outputs": [
    {
     "name": "stdout",
     "output_type": "stream",
     "text": [
      "tensor([[3.2982e-01, 0.0000e+00, 2.1890e+01, 0.0000e+00, 6.2400e-01, 5.8220e+00,\n",
      "         9.5400e+01, 2.4699e+00, 4.0000e+00, 4.3700e+02, 2.1200e+01, 3.8869e+02,\n",
      "         1.5030e+01],\n",
      "        [5.4452e-01, 0.0000e+00, 2.1890e+01, 0.0000e+00, 6.2400e-01, 6.1510e+00,\n",
      "         9.7900e+01, 1.6687e+00, 4.0000e+00, 4.3700e+02, 2.1200e+01, 3.9690e+02,\n",
      "         1.8460e+01],\n",
      "        [6.8880e-02, 0.0000e+00, 2.4600e+00, 0.0000e+00, 4.8800e-01, 6.1440e+00,\n",
      "         6.2200e+01, 2.5979e+00, 3.0000e+00, 1.9300e+02, 1.7800e+01, 3.9690e+02,\n",
      "         9.4500e+00],\n",
      "        [9.0600e-03, 9.0000e+01, 2.9700e+00, 0.0000e+00, 4.0000e-01, 7.0880e+00,\n",
      "         2.0800e+01, 7.3073e+00, 1.0000e+00, 2.8500e+02, 1.5300e+01, 3.9472e+02,\n",
      "         7.8500e+00],\n",
      "        [5.2018e+00, 0.0000e+00, 1.8100e+01, 1.0000e+00, 7.7000e-01, 6.1270e+00,\n",
      "         8.3400e+01, 2.7227e+00, 2.4000e+01, 6.6600e+02, 2.0200e+01, 3.9543e+02,\n",
      "         1.1480e+01],\n",
      "        [4.4223e+00, 0.0000e+00, 1.8100e+01, 0.0000e+00, 5.8400e-01, 6.0030e+00,\n",
      "         9.4500e+01, 2.5403e+00, 2.4000e+01, 6.6600e+02, 2.0200e+01, 3.3129e+02,\n",
      "         2.1320e+01],\n",
      "        [4.2224e+00, 0.0000e+00, 1.8100e+01, 1.0000e+00, 7.7000e-01, 5.8030e+00,\n",
      "         8.9000e+01, 1.9047e+00, 2.4000e+01, 6.6600e+02, 2.0200e+01, 3.5304e+02,\n",
      "         1.4640e+01],\n",
      "        [2.7797e+00, 0.0000e+00, 1.9580e+01, 0.0000e+00, 8.7100e-01, 4.9030e+00,\n",
      "         9.7800e+01, 1.3459e+00, 5.0000e+00, 4.0300e+02, 1.4700e+01, 3.9690e+02,\n",
      "         2.9290e+01],\n",
      "        [1.0539e+00, 0.0000e+00, 8.1400e+00, 0.0000e+00, 5.3800e-01, 5.9350e+00,\n",
      "         2.9300e+01, 4.4986e+00, 4.0000e+00, 3.0700e+02, 2.1000e+01, 3.8685e+02,\n",
      "         6.5800e+00],\n",
      "        [1.2074e+00, 0.0000e+00, 1.9580e+01, 0.0000e+00, 6.0500e-01, 5.8750e+00,\n",
      "         9.4600e+01, 2.4259e+00, 5.0000e+00, 4.0300e+02, 1.4700e+01, 2.9229e+02,\n",
      "         1.4430e+01]])\n",
      "tensor([[18.4000],\n",
      "        [17.8000],\n",
      "        [36.2000],\n",
      "        [32.2000],\n",
      "        [22.7000],\n",
      "        [19.1000],\n",
      "        [16.8000],\n",
      "        [11.8000],\n",
      "        [23.1000],\n",
      "        [17.4000]])\n"
     ]
    }
   ],
   "source": [
    "for xb, yb in train_dl:\n",
    "    print(xb)\n",
    "    print(yb)\n",
    "    break"
   ]
  },
  {
   "cell_type": "markdown",
   "metadata": {},
   "source": [
    "### Q34. What are the benefits of shuffling the training data before creating batches?"
   ]
  },
  {
   "cell_type": "markdown",
   "metadata": {},
   "source": [
    "Ans: It shuffles the training data before creating batches. Shuffling helps randomize the input to the optimization algorithm, leading to a faster reduction in the loss."
   ]
  },
  {
   "cell_type": "markdown",
   "metadata": {},
   "source": [
    "### Q35. What is the benefit of training in small batches instead of training with the entire dataset?"
   ]
  },
  {
   "cell_type": "markdown",
   "metadata": {},
   "source": [
    "Ans: Due to computational power restrictions we use batches of dataset to reduce the training time as well as memory use."
   ]
  },
  {
   "cell_type": "markdown",
   "metadata": {},
   "source": [
    "### Q36. What is the purpose of the `nn.Linear` class in PyTorch? Give an example."
   ]
  },
  {
   "cell_type": "code",
   "execution_count": 157,
   "metadata": {},
   "outputs": [],
   "source": [
    "model = nn.Linear(13, 1)"
   ]
  },
  {
   "cell_type": "markdown",
   "metadata": {},
   "source": [
    "### Q37. How do you see the weights and biases of a `nn.Linear` model?"
   ]
  },
  {
   "cell_type": "code",
   "execution_count": 158,
   "metadata": {},
   "outputs": [
    {
     "data": {
      "text/plain": [
       "(Parameter containing:\n",
       " tensor([[-0.0760, -0.0086, -0.1135,  0.2390, -0.1273,  0.1106,  0.1965, -0.2126,\n",
       "           0.1807,  0.2618, -0.0662,  0.0278,  0.2144]], requires_grad=True),\n",
       " Parameter containing:\n",
       " tensor([0.1167], requires_grad=True))"
      ]
     },
     "execution_count": 158,
     "metadata": {},
     "output_type": "execute_result"
    }
   ],
   "source": [
    "model.weight, model.bias"
   ]
  },
  {
   "cell_type": "markdown",
   "metadata": {},
   "source": [
    "### Q38. What is the purpose of the `torch.nn.functional` module?"
   ]
  },
  {
   "cell_type": "markdown",
   "metadata": {},
   "source": [
    "Ans: The nn.functional package contains many useful loss functions and several other utilities."
   ]
  },
  {
   "cell_type": "markdown",
   "metadata": {},
   "source": [
    "### Q39. How do you compute mean squared error loss using a PyTorch built-in function?"
   ]
  },
  {
   "cell_type": "code",
   "execution_count": 159,
   "metadata": {},
   "outputs": [
    {
     "data": {
      "text/plain": [
       "tensor(14708.8125, grad_fn=<MseLossBackward>)"
      ]
     },
     "execution_count": 159,
     "metadata": {},
     "output_type": "execute_result"
    }
   ],
   "source": [
    "import torch.nn.functional as F\n",
    "\n",
    "loss_fn = F.mse_loss\n",
    "loss = loss_fn(model(input), target)\n",
    "loss"
   ]
  },
  {
   "cell_type": "markdown",
   "metadata": {},
   "source": [
    "### Q40. What is an optimizer in PyTorch?"
   ]
  },
  {
   "cell_type": "markdown",
   "metadata": {},
   "source": [
    "Ans: Instead of manually manipulating the model's weights & biases using gradients, we can use the pytorch's built-in optimizes. "
   ]
  },
  {
   "cell_type": "markdown",
   "metadata": {},
   "source": [
    "### Q41. What is `torch.optim.SGD`? What does SGD stand for?"
   ]
  },
  {
   "cell_type": "markdown",
   "metadata": {},
   "source": [
    "Ans: torch.optim.SGD is a pytorch's built-in optimizer. \n",
    "\n",
    "SGD - Stochastic Gradient Descent. The term stochastic indicates that samples are selected in random batches instead of as a single group."
   ]
  },
  {
   "cell_type": "markdown",
   "metadata": {},
   "source": [
    "### Q42. What are the inputs to a PyTorch optimizer?"
   ]
  },
  {
   "cell_type": "markdown",
   "metadata": {},
   "source": [
    "Ans: models parameters, momentum and learning rate."
   ]
  },
  {
   "cell_type": "markdown",
   "metadata": {},
   "source": [
    "### Q43. Give an example of creating an optimizer for training a linear regression model."
   ]
  },
  {
   "cell_type": "code",
   "execution_count": 198,
   "metadata": {},
   "outputs": [],
   "source": [
    "optimizer = torch.optim.SGD(model.parameters(), lr=1e-4)"
   ]
  },
  {
   "cell_type": "markdown",
   "metadata": {},
   "source": [
    "### Q44. Write a function to train a `nn.Linear` model in batches using gradient descent."
   ]
  },
  {
   "cell_type": "code",
   "execution_count": 199,
   "metadata": {},
   "outputs": [],
   "source": [
    "def fit(num_epochs, model, loss_fn, optimizer, train_dl):\n",
    "    \n",
    "    # Repeat for given number of epochs\n",
    "    for epoch in range(num_epochs):\n",
    "        \n",
    "        # Train with batches of data\n",
    "        for xb, yb in train_dl:\n",
    "            \n",
    "            # 1. Generate predictions\n",
    "            pred = model(xb)\n",
    "            \n",
    "            # 2. Calculate loss\n",
    "            loss = loss_fn(pred, yb)\n",
    "            \n",
    "            # 3. Compute gradients\n",
    "            loss.backward()\n",
    "            \n",
    "            # 4. Update parameters using gradients\n",
    "            opt.step()\n",
    "            \n",
    "            # 5. Reset the gradients to zero\n",
    "            opt.zero_grad()\n",
    "            \n",
    "        # Print the progress\n",
    "        if (epoch+1) % 100 == 0:\n",
    "            print(f'Epoch [{epoch+1}/{num_epochs}], Loss: {loss.item():.4f}')"
   ]
  },
  {
   "cell_type": "code",
   "execution_count": 200,
   "metadata": {},
   "outputs": [
    {
     "name": "stdout",
     "output_type": "stream",
     "text": [
      "Epoch [100/400], Loss: 16037.1631\n",
      "Epoch [200/400], Loss: 19136.3633\n",
      "Epoch [300/400], Loss: 20512.0859\n",
      "Epoch [400/400], Loss: 7498.4043\n"
     ]
    }
   ],
   "source": [
    "fit(400, model, loss_fn, optimizer, train_dl)"
   ]
  },
  {
   "cell_type": "markdown",
   "metadata": {},
   "source": [
    "### Q45. How do you use a linear regression model to make predictions on previously unseen data?"
   ]
  },
  {
   "cell_type": "code",
   "execution_count": 201,
   "metadata": {},
   "outputs": [
    {
     "data": {
      "text/plain": [
       "tensor([[102.2728]], grad_fn=<AddmmBackward>)"
      ]
     },
     "execution_count": 201,
     "metadata": {},
     "output_type": "execute_result"
    }
   ],
   "source": [
    "model(torch.tensor([[0.00561, 20.0, 4.31, 0, 0.414, 5.515, 67.2, 4.4500, 1, 301.0, 14.3, 401.90, 3.82]]))"
   ]
  }
 ],
 "metadata": {
  "language_info": {
   "codemirror_mode": {
    "name": "ipython",
    "version": 3
   },
   "file_extension": ".py",
   "mimetype": "text/x-python",
   "name": "python",
   "nbconvert_exporter": "python",
   "pygments_lexer": "ipython3",
   "version": "3.7.4"
  },
  "toc": {
   "base_numbering": 1,
   "nav_menu": {},
   "number_sections": true,
   "sideBar": true,
   "skip_h1_title": false,
   "title_cell": "Table of Contents",
   "title_sidebar": "Contents",
   "toc_cell": false,
   "toc_position": {},
   "toc_section_display": true,
   "toc_window_display": false
  }
 },
 "nbformat": 4,
 "nbformat_minor": 4
}